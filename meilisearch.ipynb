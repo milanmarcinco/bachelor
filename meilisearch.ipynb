{
 "cells": [
  {
   "cell_type": "code",
   "execution_count": 41,
   "metadata": {},
   "outputs": [],
   "source": [
    "import meilisearch\n",
    "import requests\n",
    "import json\n",
    "\n",
    "from sentence_transformers import SentenceTransformer"
   ]
  },
  {
   "cell_type": "code",
   "execution_count": 42,
   "metadata": {},
   "outputs": [],
   "source": [
    "base_url = 'http://localhost:7700'\n",
    "api_key = 'y9iPmYwIjjm6uqLZ9SejDViU6SbkfufLZTfuffufMzfPJM'\n",
    "\n",
    "headers = {\n",
    "  \"Authorization\": f\"Bearer {api_key}\",\n",
    "  \"Content-Type\": \"application/json\"\n",
    "}\n",
    "\n",
    "client = meilisearch.Client(base_url, api_key)\n"
   ]
  },
  {
   "cell_type": "code",
   "execution_count": 43,
   "metadata": {},
   "outputs": [
    {
     "data": {
      "text/plain": [
       "{'commitSha': '885b9f07b10ce7c22cbbbe0d6f3468ad1fbc4fd4',\n",
       " 'commitDate': '2024-09-23T16:19:53.000000000Z',\n",
       " 'pkgVersion': '1.10.2'}"
      ]
     },
     "execution_count": 43,
     "metadata": {},
     "output_type": "execute_result"
    }
   ],
   "source": [
    "client.version()"
   ]
  },
  {
   "cell_type": "code",
   "execution_count": 44,
   "metadata": {},
   "outputs": [],
   "source": [
    "index = client.index(\"publications\")"
   ]
  },
  {
   "cell_type": "markdown",
   "metadata": {},
   "source": [
    "## Model setup"
   ]
  },
  {
   "cell_type": "code",
   "execution_count": 45,
   "metadata": {},
   "outputs": [],
   "source": [
    "model = SentenceTransformer('intfloat/multilingual-e5-large')"
   ]
  },
  {
   "cell_type": "markdown",
   "metadata": {},
   "source": [
    "---\n",
    "\n",
    "# Config meilisearch"
   ]
  },
  {
   "cell_type": "code",
   "execution_count": 28,
   "metadata": {},
   "outputs": [
    {
     "data": {
      "text/plain": [
       "{'vectorStore': True,\n",
       " 'metrics': False,\n",
       " 'logsRoute': False,\n",
       " 'editDocumentsByFunction': False,\n",
       " 'containsFilter': False}"
      ]
     },
     "execution_count": 28,
     "metadata": {},
     "output_type": "execute_result"
    }
   ],
   "source": [
    "requests.get(f\"{base_url}/experimental-features\", headers=headers).json()"
   ]
  },
  {
   "cell_type": "code",
   "execution_count": 38,
   "metadata": {},
   "outputs": [
    {
     "data": {
      "text/plain": [
       "{'vectorStore': True,\n",
       " 'metrics': False,\n",
       " 'logsRoute': False,\n",
       " 'editDocumentsByFunction': False,\n",
       " 'containsFilter': False}"
      ]
     },
     "execution_count": 38,
     "metadata": {},
     "output_type": "execute_result"
    }
   ],
   "source": [
    "requests.patch(\n",
    "  f\"{base_url}/experimental-features\",\n",
    "  json={ \"vectorStore\": True },\n",
    "  headers=headers\n",
    ").json()"
   ]
  },
  {
   "cell_type": "code",
   "execution_count": 30,
   "metadata": {},
   "outputs": [
    {
     "data": {
      "text/plain": [
       "TaskInfo(task_uid=21, index_uid='publications', status='enqueued', type='settingsUpdate', enqueued_at=datetime.datetime(2024, 9, 30, 22, 55, 54, 666697))"
      ]
     },
     "execution_count": 30,
     "metadata": {},
     "output_type": "execute_result"
    }
   ],
   "source": [
    "index.reset_settings()"
   ]
  },
  {
   "cell_type": "code",
   "execution_count": 31,
   "metadata": {},
   "outputs": [
    {
     "data": {
      "text/plain": [
       "TaskInfo(task_uid=22, index_uid='publications', status='enqueued', type='settingsUpdate', enqueued_at=datetime.datetime(2024, 9, 30, 22, 55, 56, 408900))"
      ]
     },
     "execution_count": 31,
     "metadata": {},
     "output_type": "execute_result"
    }
   ],
   "source": [
    "index.update_settings({\n",
    "  \"embedders\": {\n",
    "    \"default\": {\n",
    "      \"source\": \"userProvided\",\n",
    "      \"dimensions\": 1024\n",
    "    }\n",
    "  }\n",
    "})"
   ]
  },
  {
   "cell_type": "code",
   "execution_count": 5,
   "metadata": {},
   "outputs": [
    {
     "data": {
      "text/plain": [
       "{'default': UserProvidedEmbedder(source='userProvided', dimensions=1024)}"
      ]
     },
     "execution_count": 5,
     "metadata": {},
     "output_type": "execute_result"
    }
   ],
   "source": [
    "index.get_settings()['embedders']"
   ]
  },
  {
   "cell_type": "code",
   "execution_count": 32,
   "metadata": {},
   "outputs": [
    {
     "data": {
      "text/plain": [
       "TaskInfo(task_uid=23, index_uid='publications', status='enqueued', type='settingsUpdate', enqueued_at=datetime.datetime(2024, 9, 30, 22, 56, 0, 905548))"
      ]
     },
     "execution_count": 32,
     "metadata": {},
     "output_type": "execute_result"
    }
   ],
   "source": [
    "index.update_distinct_attribute(\"document_id\")"
   ]
  },
  {
   "cell_type": "code",
   "execution_count": 80,
   "metadata": {},
   "outputs": [
    {
     "data": {
      "text/plain": [
       "'document_id'"
      ]
     },
     "execution_count": 80,
     "metadata": {},
     "output_type": "execute_result"
    }
   ],
   "source": [
    "index.get_distinct_attribute()\n"
   ]
  },
  {
   "cell_type": "markdown",
   "metadata": {},
   "source": [
    "---\n",
    "\n",
    "# Retrieval"
   ]
  },
  {
   "cell_type": "markdown",
   "metadata": {},
   "source": [
    "## Prepare documents"
   ]
  },
  {
   "cell_type": "code",
   "execution_count": 54,
   "metadata": {},
   "outputs": [],
   "source": [
    "with open(\"documents.json\") as f:\n",
    "  raw_documents = json.load(f)\n",
    "\n",
    "documents = []\n",
    "\n",
    "for (idx, document) in enumerate(raw_documents):\n",
    "  documents.append({\n",
    "    \"id\": idx,\n",
    "    \"embeddings\": model.encode(document[\"paragraphs\"]),\n",
    "    \"paragraphs\": document[\"paragraphs\"],\n",
    "  })\n"
   ]
  },
  {
   "cell_type": "code",
   "execution_count": 10,
   "metadata": {},
   "outputs": [
    {
     "data": {
      "text/plain": [
       "TaskInfo(task_uid=136, index_uid='publications', status='enqueued', type='documentDeletion', enqueued_at=datetime.datetime(2024, 10, 25, 20, 27, 41, 108743))"
      ]
     },
     "execution_count": 10,
     "metadata": {},
     "output_type": "execute_result"
    }
   ],
   "source": [
    "index.delete_all_documents()"
   ]
  },
  {
   "cell_type": "markdown",
   "metadata": {},
   "source": [
    "## Add documents\n"
   ]
  },
  {
   "cell_type": "code",
   "execution_count": 12,
   "metadata": {},
   "outputs": [],
   "source": [
    "for (i, document) in enumerate(documents):\n",
    "  id = document[\"id\"]\n",
    "  embeddings = document[\"embeddings\"]\n",
    "  \n",
    "  for (j, embedding) in enumerate(embeddings):\n",
    "    index.add_documents([{\n",
    "      \"id\": f\"{id}-{j}\",\n",
    "      \"document_id\": id,\n",
    "      \"_vectors\": {\n",
    "        \"default\": embedding.tolist()\n",
    "      },\n",
    "      \"text\": document[\"paragraphs\"][j],\n",
    "    }])\n"
   ]
  },
  {
   "cell_type": "markdown",
   "metadata": {},
   "source": [
    "## Query documents"
   ]
  },
  {
   "cell_type": "code",
   "execution_count": 55,
   "metadata": {},
   "outputs": [],
   "source": [
    "query = \"autonomne vozidla\"\n",
    "embedding = model.encode([query])[0].tolist()"
   ]
  },
  {
   "cell_type": "code",
   "execution_count": 56,
   "metadata": {},
   "outputs": [
    {
     "data": {
      "text/plain": [
       "{'hits': [{'id': '0-2',\n",
       "   'text': 'In recent years, deep learning—a subset of machine learning that uses neural networks—has gained significant attention. Techniques like convolutional neural networks (CNNs) for image processing and recurrent neural networks (RNNs) for sequential data have led to breakthroughs in fields such as natural language processing and computer vision.',\n",
       "   'document_id': 0,\n",
       "   '_rankingScore': 0.873306393623352},\n",
       "  {'id': '1-2',\n",
       "   'text': 'Consensus algorithms like Paxos and Raft are vital in maintaining consistency across distributed systems, especially in environments prone to network failures. These algorithms ensure that all nodes in the system agree on the same state, even if some nodes experience downtime or unreliable connections.',\n",
       "   'document_id': 1,\n",
       "   '_rankingScore': 0.8723658323287964}],\n",
       " 'query': '',\n",
       " 'processingTimeMs': 1,\n",
       " 'hitsPerPage': 2,\n",
       " 'page': 1,\n",
       " 'totalPages': 6,\n",
       " 'totalHits': 11,\n",
       " 'semanticHitCount': 2}"
      ]
     },
     "execution_count": 56,
     "metadata": {},
     "output_type": "execute_result"
    }
   ],
   "source": [
    "index.search(None, {\n",
    "  # \"limit\": 10,\n",
    "  # \"offset\": 5,\n",
    "  \"vector\": embedding,\n",
    "  \"showRankingScore\": True,\n",
    "  \"hitsPerPage\": 2,\n",
    "  \"hybrid\": {\n",
    "    \"embedder\": \"default\",\n",
    "    \"semanticRatio\": 1\n",
    "  }\n",
    "})"
   ]
  },
  {
   "cell_type": "code",
   "execution_count": 57,
   "metadata": {},
   "outputs": [
    {
     "name": "stdout",
     "output_type": "stream",
     "text": [
      "{'id': '0-0', 'text': 'Machine learning (ML) algorithms enable systems to learn patterns and make predictions based on data. The most common types of machine learning algorithms include supervised learning, unsupervised learning, and reinforcement learning. Supervised learning uses labeled data to train models, while unsupervised learning deals with unstructured data to identify hidden patterns.', 'document_id': 0}\n",
      "{'id': '0-1', 'text': 'Some popular supervised learning algorithms include linear regression, decision trees, and support vector machines (SVMs). Each algorithm is designed for specific tasks, such as classification or regression, and has its strengths depending on the problem domain and the size of the dataset.', 'document_id': 0}\n",
      "{'id': '0-2', 'text': 'In recent years, deep learning—a subset of machine learning that uses neural networks—has gained significant attention. Techniques like convolutional neural networks (CNNs) for image processing and recurrent neural networks (RNNs) for sequential data have led to breakthroughs in fields such as natural language processing and computer vision.', 'document_id': 0}\n",
      "{'id': '1-0', 'text': 'Distributed systems refer to a network of computers that work together to achieve a common goal, but appear to the end-user as a single system. Examples of distributed systems include cloud computing platforms, peer-to-peer networks, and large-scale web applications. The key challenge in distributed systems lies in managing data consistency, coordination, and fault tolerance.', 'document_id': 1}\n",
      "{'id': '1-1', 'text': 'One common model in distributed systems is the client-server architecture, where multiple clients request services from central servers. Another is the peer-to-peer model, where each node in the system functions as both a client and a server. Each model has trade-offs in terms of scalability, efficiency, and resilience.', 'document_id': 1}\n",
      "{'id': '1-2', 'text': 'Consensus algorithms like Paxos and Raft are vital in maintaining consistency across distributed systems, especially in environments prone to network failures. These algorithms ensure that all nodes in the system agree on the same state, even if some nodes experience downtime or unreliable connections.', 'document_id': 1}\n",
      "{'id': '2-0', 'text': 'Database indexing is a technique used to improve the speed of data retrieval in databases. Indexes are data structures that allow for fast lookup of records in a database table. The most common types of indexes include B-trees, hash indexes, and bitmap indexes, each designed to optimize specific types of queries.', 'document_id': 2}\n",
      "{'id': '2-1', 'text': 'B-trees are widely used in traditional relational databases due to their balanced structure, allowing for efficient insertion, deletion, and search operations. B-tree indexes are particularly useful for range queries, as they keep data sorted and enable binary search.', 'document_id': 2}\n",
      "{'id': '2-2', 'text': 'On the other hand, hash indexes are often employed for exact-match queries, as they map keys directly to locations in memory, resulting in constant-time retrieval. Bitmap indexes are optimized for read-heavy workloads and queries involving boolean logic, making them suitable for analytical databases and data warehouses.', 'document_id': 2}\n",
      "{'id': '3-0', 'text': 'Concurrency in programming refers to the ability of a system to execute multiple tasks simultaneously. This is crucial in modern software development, where applications must handle many tasks, such as user inputs, network communication, and file processing, all at once. Concurrency can be achieved through multi-threading, parallelism, or asynchronous programming.', 'document_id': 3}\n",
      "{'id': '3-1', 'text': 'Multi-threading allows multiple threads to run in parallel within a single program, sharing memory space but potentially leading to issues such as race conditions and deadlocks. Synchronization mechanisms like mutexes, semaphores, and locks are used to manage access to shared resources and avoid these problems.', 'document_id': 3}\n",
      "{'id': '3-2', 'text': 'Asynchronous programming, on the other hand, allows a program to execute other tasks while waiting for an I/O operation to complete, improving performance without the complexity of managing multiple threads. Languages like JavaScript use asynchronous functions with promises or callbacks to handle I/O-bound operations efficiently.', 'document_id': 3}\n",
      "{'id': '4-0', 'text': 'Blockchain is a decentralized ledger technology that relies heavily on cryptographic principles to ensure security, transparency, and immutability. One of the key components of blockchain is the cryptographic hash function, which transforms input data of any size into a fixed-size string, known as a hash. Popular hash functions include SHA-256 and MD5, though the latter is considered outdated for secure applications.', 'document_id': 4}\n",
      "{'id': '4-1', 'text': 'In blockchain, hash functions serve multiple purposes, including linking blocks of data in a chain. Each block contains the hash of the previous block, which ensures that altering any block would invalidate the entire chain, thereby preventing tampering. This feature is what gives blockchain its immutability.', 'document_id': 4}\n",
      "{'id': '4-2', 'text': 'Cryptographic hash functions are also used in the process of mining in Proof-of-Work blockchains like Bitcoin. Miners must find a hash that satisfies certain criteria, a process that requires significant computational resources. The difficulty of this task ensures that adding new blocks to the chain is both secure and resource-intensive.', 'document_id': 4}\n",
      "15\n"
     ]
    }
   ],
   "source": [
    "docs = index.get_documents().results\n",
    "\n",
    "for doc in docs:\n",
    "  print({\n",
    "    \"id\": doc.id,\n",
    "    \"text\": doc.text,\n",
    "    \"document_id\": doc.document_id\n",
    "  })\n",
    "\n",
    "print(len(docs))"
   ]
  }
 ],
 "metadata": {
  "kernelspec": {
   "display_name": "env",
   "language": "python",
   "name": "python3"
  },
  "language_info": {
   "codemirror_mode": {
    "name": "ipython",
    "version": 3
   },
   "file_extension": ".py",
   "mimetype": "text/x-python",
   "name": "python",
   "nbconvert_exporter": "python",
   "pygments_lexer": "ipython3",
   "version": "3.12.6"
  }
 },
 "nbformat": 4,
 "nbformat_minor": 2
}
