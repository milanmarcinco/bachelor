{
 "cells": [
  {
   "cell_type": "code",
   "execution_count": 15,
   "metadata": {},
   "outputs": [],
   "source": [
    "import psycopg2\n"
   ]
  },
  {
   "cell_type": "code",
   "execution_count": 36,
   "metadata": {},
   "outputs": [],
   "source": [
    "connection = psycopg2.connect(\n",
    "  dbname=\"trigram\",\n",
    "  user=\"postgres\",\n",
    "  password=\"postgres\",\n",
    "  host=\"localhost\",\n",
    "  port=\"5432\"\n",
    ")\n",
    "\n",
    "db = connection.cursor()"
   ]
  },
  {
   "cell_type": "markdown",
   "metadata": {},
   "source": [
    "# Setup"
   ]
  },
  {
   "cell_type": "code",
   "execution_count": 53,
   "metadata": {},
   "outputs": [],
   "source": [
    "db.execute(\"CREATE EXTENSION IF NOT EXISTS pg_trgm;\")"
   ]
  },
  {
   "cell_type": "code",
   "execution_count": null,
   "metadata": {},
   "outputs": [],
   "source": [
    "db.execute(\"\"\"\n",
    "  CREATE TABLE IF NOT EXISTS documents (\n",
    "    id SERIAL PRIMARY KEY,\n",
    "    title VARCHAR(255) NOT NULL,\n",
    "    language CHAR(2) NOT NULL,\n",
    "    content TEXT NOT NULL,\n",
    "    summary TEXT NOT NULL\n",
    "  );\n",
    "\"\"\")\n"
   ]
  },
  {
   "cell_type": "markdown",
   "metadata": {},
   "source": [
    "# Random documents"
   ]
  },
  {
   "cell_type": "code",
   "execution_count": 55,
   "metadata": {},
   "outputs": [],
   "source": [
    "db.execute(\"\"\"\n",
    "  INSERT INTO documents (title, language, content, summary) VALUES\n",
    "    ('Random Document 1', 'en', 'This is the content of the first random document.', 'A brief summary of the first document.'),\n",
    "    ('Random Document 2', 'es', 'Este es el contenido del segundo documento aleatorio.', 'Un breve resumen del segundo documento.'),\n",
    "    ('Random Document 3', 'fr', 'Voici le contenu du troisième document aléatoire.', 'Un bref résumé du troisième document.'),\n",
    "    ('Random Document 4', 'de', 'Dies ist der Inhalt des vierten zufälligen Dokuments.', 'Eine kurze Zusammenfassung des vierten Dokuments.'),\n",
    "    ('Random Document 5', 'it', 'Questo è il contenuto del quinto documento casuale.', 'Un breve riassunto del quinto documento.');\n",
    "\"\"\")"
   ]
  },
  {
   "cell_type": "code",
   "execution_count": 69,
   "metadata": {},
   "outputs": [
    {
     "data": {
      "text/plain": [
       "[(1,\n",
       "  'Random Document 1',\n",
       "  'en',\n",
       "  'This is the content of the first random document.',\n",
       "  'A brief summary of the first document.'),\n",
       " (2,\n",
       "  'Random Document 2',\n",
       "  'es',\n",
       "  'Este es el contenido del segundo documento aleatorio.',\n",
       "  'Un breve resumen del segundo documento.'),\n",
       " (3,\n",
       "  'Random Document 3',\n",
       "  'fr',\n",
       "  'Voici le contenu du troisième document aléatoire.',\n",
       "  'Un bref résumé du troisième document.'),\n",
       " (4,\n",
       "  'Random Document 4',\n",
       "  'de',\n",
       "  'Dies ist der Inhalt des vierten zufälligen Dokuments.',\n",
       "  'Eine kurze Zusammenfassung des vierten Dokuments.'),\n",
       " (5,\n",
       "  'Random Document 5',\n",
       "  'it',\n",
       "  'Questo è il contenuto del quinto documento casuale.',\n",
       "  'Un breve riassunto del quinto documento.')]"
      ]
     },
     "execution_count": 69,
     "metadata": {},
     "output_type": "execute_result"
    }
   ],
   "source": [
    "db.execute(\"SELECT * FROM documents;\")\n",
    "db.fetchall()\n"
   ]
  },
  {
   "cell_type": "markdown",
   "metadata": {},
   "source": [
    "# Index setup"
   ]
  },
  {
   "cell_type": "code",
   "execution_count": null,
   "metadata": {},
   "outputs": [],
   "source": [
    "db.execute(\"\"\"\n",
    "  CREATE INDEX IF NOT EXISTS trgm_summary_idx ON documents USING GIN (summary gin_trgm_ops);\n",
    "  CREATE INDEX IF NOT EXISTS trgm_content_idx ON documents USING GIN (content gin_trgm_ops);\n",
    "\"\"\")\n"
   ]
  },
  {
   "cell_type": "code",
   "execution_count": 75,
   "metadata": {},
   "outputs": [],
   "source": [
    "db.execute(\"SET pg_trgm.similarity_threshold = 0.1;\")"
   ]
  },
  {
   "cell_type": "markdown",
   "metadata": {},
   "source": [
    "# Search"
   ]
  },
  {
   "cell_type": "code",
   "execution_count": 76,
   "metadata": {},
   "outputs": [
    {
     "data": {
      "text/plain": [
       "[(3,\n",
       "  'Random Document 3',\n",
       "  'fr',\n",
       "  'Voici le contenu du troisième document aléatoire.',\n",
       "  'Un bref résumé du troisième document.',\n",
       "  0.25),\n",
       " (1,\n",
       "  'Random Document 1',\n",
       "  'en',\n",
       "  'This is the content of the first random document.',\n",
       "  'A brief summary of the first document.',\n",
       "  0.23684211),\n",
       " (5,\n",
       "  'Random Document 5',\n",
       "  'it',\n",
       "  'Questo è il contenuto del quinto documento casuale.',\n",
       "  'Un breve riassunto del quinto documento.',\n",
       "  0.22222222),\n",
       " (2,\n",
       "  'Random Document 2',\n",
       "  'es',\n",
       "  'Este es el contenido del segundo documento aleatorio.',\n",
       "  'Un breve resumen del segundo documento.',\n",
       "  0.21621622)]"
      ]
     },
     "execution_count": 76,
     "metadata": {},
     "output_type": "execute_result"
    }
   ],
   "source": [
    "query = \"document\"\n",
    "\n",
    "db.execute(\"\"\"\n",
    "  SELECT *, similarity(summary, %s) AS similarity_score\n",
    "  FROM documents\n",
    "  WHERE summary %% %s\n",
    "  ORDER BY summary <-> %s\n",
    "\"\"\", (query, query, query))\n",
    "\n",
    "results = db.fetchall()\n",
    "results\n"
   ]
  }
 ],
 "metadata": {
  "kernelspec": {
   "display_name": "env",
   "language": "python",
   "name": "python3"
  },
  "language_info": {
   "codemirror_mode": {
    "name": "ipython",
    "version": 3
   },
   "file_extension": ".py",
   "mimetype": "text/x-python",
   "name": "python",
   "nbconvert_exporter": "python",
   "pygments_lexer": "ipython3",
   "version": "3.12.6"
  }
 },
 "nbformat": 4,
 "nbformat_minor": 2
}
