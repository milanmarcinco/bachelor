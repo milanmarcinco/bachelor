{
 "cells": [
  {
   "cell_type": "code",
   "execution_count": 1,
   "metadata": {},
   "outputs": [
    {
     "name": "stderr",
     "output_type": "stream",
     "text": [
      "/Users/milanmarcinco/School/bak/env/lib/python3.12/site-packages/tqdm/auto.py:21: TqdmWarning: IProgress not found. Please update jupyter and ipywidgets. See https://ipywidgets.readthedocs.io/en/stable/user_install.html\n",
      "  from .autonotebook import tqdm as notebook_tqdm\n"
     ]
    }
   ],
   "source": [
    "import meilisearch\n",
    "import requests\n",
    "import json\n",
    "\n",
    "from sentence_transformers import SentenceTransformer"
   ]
  },
  {
   "cell_type": "code",
   "execution_count": 2,
   "metadata": {},
   "outputs": [],
   "source": [
    "base_url = 'http://localhost:7700'\n",
    "api_key = 'y9iPmYwIjjm6uqLZ9SejDViU6SbkfufLZTfuffufMzfPJM'\n",
    "\n",
    "headers = {\n",
    "  \"Authorization\": f\"Bearer {api_key}\",\n",
    "  \"Content-Type\": \"application/json\"\n",
    "}\n",
    "\n",
    "client = meilisearch.Client(base_url, api_key)\n"
   ]
  },
  {
   "cell_type": "code",
   "execution_count": 3,
   "metadata": {},
   "outputs": [
    {
     "data": {
      "text/plain": [
       "{'commitSha': 'e20b91210d1b5da82072289a9198435276661174',\n",
       " 'commitDate': '2025-01-23T13:41:34.000000000Z',\n",
       " 'pkgVersion': '1.12.7'}"
      ]
     },
     "execution_count": 3,
     "metadata": {},
     "output_type": "execute_result"
    }
   ],
   "source": [
    "client.version()"
   ]
  },
  {
   "cell_type": "code",
   "execution_count": 4,
   "metadata": {},
   "outputs": [],
   "source": [
    "index = client.index(\"publications\")"
   ]
  },
  {
   "cell_type": "markdown",
   "metadata": {},
   "source": [
    "## Model setup"
   ]
  },
  {
   "cell_type": "code",
   "execution_count": 12,
   "metadata": {},
   "outputs": [],
   "source": [
    "model = SentenceTransformer('intfloat/multilingual-e5-large')"
   ]
  },
  {
   "cell_type": "markdown",
   "metadata": {},
   "source": [
    "---\n",
    "\n",
    "# Config meilisearch"
   ]
  },
  {
   "cell_type": "code",
   "execution_count": 31,
   "metadata": {},
   "outputs": [
    {
     "data": {
      "text/plain": [
       "{'vectorStore': True,\n",
       " 'metrics': False,\n",
       " 'logsRoute': False,\n",
       " 'editDocumentsByFunction': False,\n",
       " 'containsFilter': False}"
      ]
     },
     "execution_count": 31,
     "metadata": {},
     "output_type": "execute_result"
    }
   ],
   "source": [
    "requests.get(f\"{base_url}/experimental-features\", headers=headers).json()"
   ]
  },
  {
   "cell_type": "code",
   "execution_count": 38,
   "metadata": {},
   "outputs": [
    {
     "data": {
      "text/plain": [
       "{'vectorStore': True,\n",
       " 'metrics': False,\n",
       " 'logsRoute': False,\n",
       " 'editDocumentsByFunction': False,\n",
       " 'containsFilter': False}"
      ]
     },
     "execution_count": 38,
     "metadata": {},
     "output_type": "execute_result"
    }
   ],
   "source": [
    "requests.patch(\n",
    "  f\"{base_url}/experimental-features\",\n",
    "  json={ \"vectorStore\": True },\n",
    "  headers=headers\n",
    ").json()"
   ]
  },
  {
   "cell_type": "code",
   "execution_count": 25,
   "metadata": {},
   "outputs": [
    {
     "data": {
      "text/plain": [
       "TaskInfo(task_uid=64, index_uid='publications', status='enqueued', type='settingsUpdate', enqueued_at=datetime.datetime(2025, 1, 27, 19, 31, 11, 130715))"
      ]
     },
     "execution_count": 25,
     "metadata": {},
     "output_type": "execute_result"
    }
   ],
   "source": [
    "index.reset_settings()"
   ]
  },
  {
   "cell_type": "code",
   "execution_count": 26,
   "metadata": {},
   "outputs": [
    {
     "data": {
      "text/plain": [
       "TaskInfo(task_uid=65, index_uid='publications', status='enqueued', type='settingsUpdate', enqueued_at=datetime.datetime(2025, 1, 27, 19, 31, 13, 434230))"
      ]
     },
     "execution_count": 26,
     "metadata": {},
     "output_type": "execute_result"
    }
   ],
   "source": [
    "index.update_settings({\n",
    "  \"embedders\": {\n",
    "    \"default\": {\n",
    "      \"source\": \"userProvided\",\n",
    "      \"dimensions\": 1024\n",
    "    }\n",
    "  }\n",
    "})"
   ]
  },
  {
   "cell_type": "code",
   "execution_count": 27,
   "metadata": {},
   "outputs": [
    {
     "data": {
      "text/plain": [
       "{'default': UserProvidedEmbedder(source='userProvided', dimensions=1024)}"
      ]
     },
     "execution_count": 27,
     "metadata": {},
     "output_type": "execute_result"
    }
   ],
   "source": [
    "index.get_settings()['embedders']"
   ]
  },
  {
   "cell_type": "code",
   "execution_count": 29,
   "metadata": {},
   "outputs": [
    {
     "data": {
      "text/plain": [
       "TaskInfo(task_uid=66, index_uid='publications', status='enqueued', type='settingsUpdate', enqueued_at=datetime.datetime(2025, 1, 27, 19, 31, 19, 495236))"
      ]
     },
     "execution_count": 29,
     "metadata": {},
     "output_type": "execute_result"
    }
   ],
   "source": [
    "index.update_distinct_attribute(\"document_id\")"
   ]
  },
  {
   "cell_type": "code",
   "execution_count": 30,
   "metadata": {},
   "outputs": [
    {
     "data": {
      "text/plain": [
       "'document_id'"
      ]
     },
     "execution_count": 30,
     "metadata": {},
     "output_type": "execute_result"
    }
   ],
   "source": [
    "index.get_distinct_attribute()\n"
   ]
  },
  {
   "cell_type": "markdown",
   "metadata": {},
   "source": [
    "---\n",
    "\n",
    "# Retrieval"
   ]
  },
  {
   "cell_type": "markdown",
   "metadata": {},
   "source": [
    "## Prepare documents"
   ]
  },
  {
   "cell_type": "code",
   "execution_count": 32,
   "metadata": {},
   "outputs": [],
   "source": [
    "raw_documents = [\n",
    "    [\n",
    "        \"Artificial Intelligence (AI) has rapidly transformed various industries, from healthcare to finance. It is driven by algorithms that analyze large datasets, enabling machines to perform tasks previously thought exclusive to humans.\",\n",
    "        \"Machine Learning, a subset of AI, allows systems to learn and improve from data without explicit programming. Applications range from recommendation systems to autonomous vehicles.\",\n",
    "        \"Natural Language Processing (NLP) is another critical AI component, powering technologies like chatbots and voice assistants. It enables machines to understand, interpret, and respond to human language.\",\n",
    "        \"AI ethics have become a significant concern, addressing issues like bias in algorithms, data privacy, and job displacement. Transparent and accountable AI development is a growing priority.\",\n",
    "        \"Despite its challenges, AI continues to innovate and improve, offering solutions to complex problems and creating opportunities for businesses and individuals.\"\n",
    "    ],\n",
    "    [\n",
    "        \"Blockchain technology underpins cryptocurrencies like Bitcoin and Ethereum, offering a decentralized and secure method for recording transactions.\",\n",
    "        \"Smart contracts, powered by blockchain, allow automated and trustless agreements between parties. These are widely used in decentralized finance (DeFi) applications.\",\n",
    "        \"The technology's transparency and immutability make it valuable for supply chain management, ensuring authenticity and traceability of goods.\",\n",
    "        \"Non-fungible tokens (NFTs) have gained popularity as digital assets representing ownership of unique items like art and collectibles on the blockchain.\",\n",
    "        \"Challenges like scalability, energy consumption, and regulatory scrutiny continue to shape the future of blockchain adoption.\"\n",
    "    ],\n",
    "    [\n",
    "        \"Cloud computing has revolutionized the IT industry by providing scalable and flexible resources over the internet. Companies can access computing power, storage, and services on demand.\",\n",
    "        \"Public cloud platforms like AWS, Microsoft Azure, and Google Cloud dominate the market, offering a range of services from infrastructure to AI tools.\",\n",
    "        \"Hybrid cloud solutions enable businesses to combine on-premises infrastructure with cloud resources, offering the best of both worlds for flexibility and security.\",\n",
    "        \"Cloud computing supports innovation through tools like serverless computing, which allows developers to focus on code without managing infrastructure.\",\n",
    "        \"Security and data privacy remain critical considerations, driving advancements in encryption and compliance frameworks in cloud environments.\"\n",
    "    ],\n",
    "    [\n",
    "        \"The Internet of Things (IoT) connects everyday devices to the internet, creating a network of 'smart' devices that can communicate and automate tasks.\",\n",
    "        \"Smart home technology, including thermostats, lights, and security cameras, is a prominent IoT application, enhancing convenience and energy efficiency.\",\n",
    "        \"IoT is revolutionizing industries like healthcare through wearable devices that monitor patient health in real-time, enabling proactive care.\",\n",
    "        \"Industrial IoT (IIoT) improves manufacturing processes by enabling predictive maintenance, optimizing resource use, and enhancing operational efficiency.\",\n",
    "        \"As IoT devices proliferate, concerns about security vulnerabilities and data breaches are increasing, requiring robust solutions and standards.\"\n",
    "    ],\n",
    "    [\n",
    "        \"Cybersecurity is a critical concern in the digital age, with threats ranging from phishing attacks to ransomware targeting individuals and organizations.\",\n",
    "        \"Advanced security measures, like multi-factor authentication (MFA) and end-to-end encryption, are becoming standard practices to protect data.\",\n",
    "        \"Cybersecurity frameworks, such as Zero Trust Architecture, focus on continuous verification and limiting access to sensitive information.\",\n",
    "        \"Ethical hacking and penetration testing are essential for identifying and mitigating vulnerabilities before malicious actors exploit them.\",\n",
    "        \"The growing importance of cybersecurity has led to a demand for skilled professionals and the development of cutting-edge technologies like AI-powered threat detection.\"\n",
    "    ]\n",
    "]\n",
    "\n",
    "\n",
    "documents = []\n",
    "\n",
    "for (idx, document) in enumerate(raw_documents):\n",
    "    documents.append({\n",
    "        \"id\": idx,\n",
    "        \"embeddings\": model.encode(document),\n",
    "        \"paragraphs\": document,\n",
    "    })"
   ]
  },
  {
   "cell_type": "code",
   "execution_count": 22,
   "metadata": {},
   "outputs": [
    {
     "data": {
      "text/plain": [
       "TaskInfo(task_uid=63, index_uid='publications', status='enqueued', type='documentDeletion', enqueued_at=datetime.datetime(2025, 1, 27, 19, 30, 55, 964221))"
      ]
     },
     "execution_count": 22,
     "metadata": {},
     "output_type": "execute_result"
    }
   ],
   "source": [
    "index.delete_all_documents()"
   ]
  },
  {
   "cell_type": "markdown",
   "metadata": {},
   "source": [
    "## Add documents\n"
   ]
  },
  {
   "cell_type": "code",
   "execution_count": 38,
   "metadata": {},
   "outputs": [],
   "source": [
    "for (i, document) in enumerate(documents):\n",
    "    id = document[\"id\"]\n",
    "    embeddings = document[\"embeddings\"]\n",
    "\n",
    "    for (j, embedding) in enumerate(embeddings):\n",
    "        index.add_documents([{\n",
    "            \"id\": f\"{id}-{j}\",\n",
    "            \"document_id\": id,\n",
    "            \"_vectors\": {\n",
    "                \"default\": embedding.tolist()\n",
    "            },\n",
    "            \"text\": document[\"paragraphs\"][j],\n",
    "        }], \"id\")"
   ]
  },
  {
   "cell_type": "markdown",
   "metadata": {},
   "source": [
    "## Query documents"
   ]
  },
  {
   "cell_type": "code",
   "execution_count": 35,
   "metadata": {},
   "outputs": [],
   "source": [
    "query = \"autonomne vozidla\"\n",
    "embedding = model.encode([query])[0].tolist()"
   ]
  },
  {
   "cell_type": "code",
   "execution_count": 36,
   "metadata": {},
   "outputs": [
    {
     "data": {
      "text/plain": [
       "{'hits': [],\n",
       " 'query': '',\n",
       " 'processingTimeMs': 1,\n",
       " 'hitsPerPage': 2,\n",
       " 'page': 1,\n",
       " 'totalPages': 0,\n",
       " 'totalHits': 0,\n",
       " 'semanticHitCount': 0}"
      ]
     },
     "execution_count": 36,
     "metadata": {},
     "output_type": "execute_result"
    }
   ],
   "source": [
    "index.search(None, {\n",
    "  # \"limit\": 10,\n",
    "  # \"offset\": 5,\n",
    "  \"vector\": embedding,\n",
    "  \"showRankingScore\": True,\n",
    "  \"hitsPerPage\": 2,\n",
    "  \"hybrid\": {\n",
    "    \"embedder\": \"default\",\n",
    "    \"semanticRatio\": 1\n",
    "  }\n",
    "})"
   ]
  },
  {
   "cell_type": "code",
   "execution_count": 37,
   "metadata": {},
   "outputs": [
    {
     "name": "stdout",
     "output_type": "stream",
     "text": [
      "0\n"
     ]
    }
   ],
   "source": [
    "docs = index.get_documents().results\n",
    "\n",
    "for doc in docs:\n",
    "  print({\n",
    "    \"id\": doc.id,\n",
    "    \"text\": doc.text,\n",
    "    \"document_id\": doc.document_id\n",
    "  })\n",
    "\n",
    "print(len(docs))"
   ]
  }
 ],
 "metadata": {
  "kernelspec": {
   "display_name": "env",
   "language": "python",
   "name": "python3"
  },
  "language_info": {
   "codemirror_mode": {
    "name": "ipython",
    "version": 3
   },
   "file_extension": ".py",
   "mimetype": "text/x-python",
   "name": "python",
   "nbconvert_exporter": "python",
   "pygments_lexer": "ipython3",
   "version": "3.12.8"
  }
 },
 "nbformat": 4,
 "nbformat_minor": 2
}
