{
 "cells": [
  {
   "cell_type": "code",
   "execution_count": 56,
   "id": "2ddbd612",
   "metadata": {},
   "outputs": [],
   "source": [
    "import json\n",
    "import langdetect\n",
    "\n",
    "LANGS = set([\"en\", \"sk\", \"de\"])"
   ]
  },
  {
   "cell_type": "code",
   "execution_count": 57,
   "id": "dca6a84e",
   "metadata": {},
   "outputs": [],
   "source": [
    "with open(\"../../../data/library/metadata.json\") as f:\n",
    "    documents = json.load(f)\n",
    "\n",
    "\n",
    "def load_parts(filename):\n",
    "    with open(f\"../../../data/document_parts/json/{filename}.json\", \"r\") as f:\n",
    "        parts = json.load(f)\n",
    "\n",
    "    return parts"
   ]
  },
  {
   "cell_type": "code",
   "execution_count": 58,
   "id": "e7c20012",
   "metadata": {},
   "outputs": [
    {
     "name": "stdout",
     "output_type": "stream",
     "text": [
      "Processing 396/396\n",
      "Error rate: 0.0\n",
      "Stats: {'en': 339, 'sk': 34, 'de': 23}\n"
     ]
    }
   ],
   "source": [
    "errors = 0\n",
    "\n",
    "stats = {\n",
    "    \"en\": 0,\n",
    "    \"sk\": 0,\n",
    "    \"de\": 0,\n",
    "}\n",
    "\n",
    "for idx, document in enumerate(documents):\n",
    "    print(f\"Processing {idx + 1}/{len(documents)}\", end=\"\\r\")\n",
    "\n",
    "    text = \" \".join(\n",
    "        load_parts(\n",
    "            document[\"pk\"]\n",
    "        )[\"sentences\"]\n",
    "    )\n",
    "\n",
    "    lang = langdetect.detect(text)\n",
    "\n",
    "    if lang not in LANGS:\n",
    "        errors += 1\n",
    "    else:\n",
    "        stats[lang] += 1\n",
    "\n",
    "print()\n",
    "\n",
    "error_rate = errors / len(documents)\n",
    "print(\"Error rate:\", error_rate)\n",
    "print(\"Stats:\", stats)"
   ]
  },
  {
   "cell_type": "code",
   "execution_count": 59,
   "id": "948b2bf9",
   "metadata": {},
   "outputs": [
    {
     "name": "stdout",
     "output_type": "stream",
     "text": [
      "Avg pages: 259.5429292929293\n",
      "Avg words: 98596.00505050505\n",
      "Avg chars: 650084.1363636364\n"
     ]
    }
   ],
   "source": [
    "avg_pages = 0\n",
    "avg_words = 0\n",
    "avg_chars = 0\n",
    "\n",
    "for idx, document in enumerate(documents):\n",
    "    parts = load_parts(document[\"pk\"])\n",
    "\n",
    "    pages = parts[\"pages\"]\n",
    "    words = \" \".join(parts[\"sentences\"]).split(\" \")\n",
    "\n",
    "    avg_pages += len(pages)\n",
    "    avg_words += len(words)\n",
    "    avg_chars += sum(len(page) for page in pages)\n",
    "\n",
    "avg_pages /= len(documents)\n",
    "avg_words /= len(documents)\n",
    "avg_chars /= len(documents)\n",
    "print(\"Avg pages:\", avg_pages)\n",
    "print(\"Avg words:\", avg_words)\n",
    "print(\"Avg chars:\", avg_chars)"
   ]
  }
 ],
 "metadata": {
  "kernelspec": {
   "display_name": "env",
   "language": "python",
   "name": "python3"
  },
  "language_info": {
   "codemirror_mode": {
    "name": "ipython",
    "version": 3
   },
   "file_extension": ".py",
   "mimetype": "text/x-python",
   "name": "python",
   "nbconvert_exporter": "python",
   "pygments_lexer": "ipython3",
   "version": "3.9.22"
  }
 },
 "nbformat": 4,
 "nbformat_minor": 5
}
