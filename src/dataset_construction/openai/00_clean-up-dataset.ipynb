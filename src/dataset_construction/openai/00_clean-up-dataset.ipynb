{
 "cells": [
  {
   "cell_type": "code",
   "execution_count": 1,
   "metadata": {},
   "outputs": [],
   "source": [
    "import json\n",
    "import os"
   ]
  },
  {
   "cell_type": "code",
   "execution_count": 11,
   "metadata": {},
   "outputs": [],
   "source": [
    "dataset_dir = \"../../../dataset\"\n",
    "metadata_filepath = f\"{dataset_dir}/_merged.json\"\n",
    "new_metadata_filepath = f\"{dataset_dir}/merged.json\""
   ]
  },
  {
   "cell_type": "code",
   "execution_count": 7,
   "metadata": {},
   "outputs": [
    {
     "name": "stdout",
     "output_type": "stream",
     "text": [
      "[\n",
      "  {\n",
      "    \"pk\": \"8288e199-5927-4eb1-8c40-07387287264f\",\n",
      "    \"filename\": \"8288e199-5927-4eb1-8c40-07387287264f.pdf\",\n",
      "    \"title\": \"Odporúčanie pre softvérových inžinierov\"\n",
      "  }\n",
      "]\n"
     ]
    }
   ],
   "source": [
    "# Get a list of documents.\n",
    "\n",
    "with open(metadata_filepath) as f:\n",
    "    documents = json.load(f)\n",
    "\n",
    "print(json.dumps(documents[:1], indent=2, ensure_ascii=False))"
   ]
  },
  {
   "cell_type": "code",
   "execution_count": 9,
   "metadata": {},
   "outputs": [],
   "source": [
    "document_filenames = set(os.listdir(dataset_dir))"
   ]
  },
  {
   "cell_type": "code",
   "execution_count": 10,
   "metadata": {},
   "outputs": [
    {
     "name": "stdout",
     "output_type": "stream",
     "text": [
      "Document [2c6911e8-3192-4c6e-a038-8bb0b3e109f3.pdf][The Social Life of Economic inequalities in Contemporary Latin America : Decades of Change] not found.\n",
      "Document [2222137f-e740-4ab2-9fd3-a2333e04e9f9.pdf][Model-Based Demography : Essays On integrating Data, Technique and Theory] not found.\n",
      "Document [b3332145-46d1-4584-b661-97aa4bb95c66.pdf][Talent Development in European Higher Education : Honors Programs in The Benelux, Nordic and German-Speaking Countries] not found.\n",
      "Document [b13f73fc-cdfc-4ba4-a22c-b9dc1d235c2a.pdf][Mercury Pollution in Minamata] not found.\n",
      "Document [f8c4853c-f3e9-46f7-9575-67453d801211.pdf][Advances in Discrete Differential Geometry] not found.\n",
      "Document [de473528-bd87-40f7-aa25-5e1befcd4825.pdf][The Illusion of Risk Control : What Does It Take To Live With Uncertainty?] not found.\n",
      "Document [b74a8500-01da-4cb3-b108-89454d28a4dd.pdf][The Eu and China in African Authoritarian Regimes : Domestic Politics and Governance Reforms] not found.\n",
      "Document [92f1427a-250b-4005-a014-205d961e7de1.pdf][Bridging Educational Leadership, Curriculum Theory and Didaktik : Non-Affirmative Theory of Education] not found.\n",
      "Document [6e2c475f-4fd7-4d6e-829f-a3d94c590b14.pdf][Understanding The Bigger Energy Picture : Desertec and Beyond] not found.\n",
      "Document [d108b808-e344-4a2e-b607-0881899a32d4.pdf][Uses of Technology in Lower Secondary Mathematics Education : a Concise Topical Survey] not found.\n",
      "Document [a1674af4-68e2-4e95-8df9-2615c1c2a550.pdf][White Paper On Joint Replacement : Status of Hip and Knee Arthroplasty Care in Germany] not found.\n",
      "Document [b8fc9516-6cbd-46d8-b184-24278f9242eb.pdf][Advances in Wheat Genetics: From Genome to Field: Proceedings of the 12th International Wheat Genetics Symposium] not found.\n",
      "Document [46b59762-ddf3-459e-ae2e-25db3696dafd.pdf][Earth Observation Open Science and Innovation] not found.\n",
      "Document [00ab6675-af09-41fd-9018-a77d79d0dbe2.pdf][Stem Cells in Neuroendocrinology] not found.\n",
      "Document [8c76226c-ccb3-4cf7-a2f0-bbe7aeacfda6.pdf][The Handbook of Salutogenesis] not found.\n",
      "Document [c54fb5b9-73cd-4c0d-a1be-b0b101feb640.pdf][Weißbuch Multiple Sklerose : Versorgungssituation in Deutschland] not found.\n",
      "Document [4de8c377-202d-41ed-9366-2e77b75b7b58.pdf][Kundennutzen Durch Digitale Transformation : Business-Process-Management-Studie – Status Quo Und Erfolgsmuster] not found.\n",
      "Document [413cabb5-5d08-475c-a40a-ff0bcea8696e.pdf][Science and Technology Governance and Ethics : a Global Perspective From Europe, india and China] not found.\n",
      "Document [fa568cee-ea1e-41f0-8327-22a9efef6823.pdf][The Proceedings of The 12Th international Congress On Mathematical Education : intellectual and Attitudinal Challenges] not found.\n",
      "Document [83f93191-5ff3-40ce-875e-63c809c85c36.pdf][Design Science and Its Importance in the German Mathematics Educational Discussion] not found.\n",
      "Document [399e3fc7-00aa-42d5-9221-18e5704cd921.pdf][Counteracting Urban Heat Island Effects in a Global Climate Change Scenario] not found.\n",
      "Document [f5de9c14-83be-4dc1-85e2-d0c9ef283a8e.pdf][The Plant Stem : a Microscopic Aspect] not found.\n",
      "Document [45b90f72-83cf-402c-bdd0-362f0bd5926f.pdf][Methodological investigations in Agent-Based Modelling : With Applications For The Social Sciences] not found.\n",
      "Document [76ef6cc9-708a-4ba2-b1ed-d1fcdb83e7b8.pdf][Nicotinic Acetylcholine Receptor Signaling in Neuroprotection] not found.\n",
      "Document [d9a70d82-6a1d-4515-8a7a-535df8595deb.pdf][Pharmacovigilance in The European Union : Practical Implementation Across Member States] not found.\n",
      "Document [740c0980-ccc5-4870-8a88-bb0f2b51962d.pdf][Living with Disfigurement in Early Medieval Europe] not found.\n",
      "Document [ecb24dac-8228-4e4e-b550-b4dc9589e64c.pdf][Cyborgs in Latin America] not found.\n",
      "Document [db549daa-5ff8-4aba-babc-e5a7b9581c60.pdf][Heterogeneity, High Performance Computing, Self-Organization and the Cloud] not found.\n",
      "Document [81369b47-eeb2-49c8-bfbc-aabc1d9d6703.pdf][Outsourcing Legal Aid in the Nordic Welfare States] not found.\n",
      "Document [d64d95c3-63b5-41ed-85d2-0fd5907a48c3.pdf][Preparing for Life in a Digital Age : The IEA International Computer and Information Literacy Study International Report] not found.\n",
      "Document [3b27cbe5-c196-4487-9c87-b9d4580fc160.pdf][Lone Parenthood in the Life Course] not found.\n",
      "Document [b2ac1689-7403-4cf9-bf52-cdd5c5a70f56.pdf][Society - Water - Technology : a Critical Appraisal of Major Water Engineering Projects] not found.\n",
      "Document [34443235-af41-4034-bed9-ab4d930a1d95.pdf][Asian Century… On a Knife-Edge : a 360 Degree Analysis of Asia'S Recent Economic Development] not found.\n",
      "Document [e0435d56-380d-4455-af6f-2b95ade07812.pdf][Particle Accelerator Physics] not found.\n",
      "Document [13306da0-3781-4cf7-a33c-7e654be707d9.pdf][Snow Sports Trauma and Safety : Conference Proceedings of the International Society for Skiing Safety: 21st Volume] not found.\n",
      "Document [925cc99d-de80-4976-ac80-0c9c536aa723.pdf][Companion to European Heritage Revivals] not found.\n",
      "Document [abd4593c-4484-46b3-96b8-cdf106be5dd4.pdf][Linked Open Data -- Creating Knowledge Out of Interlinked Data : Results of the LOD2 Project] not found.\n",
      "Document [fd719156-3935-4efa-b3ed-377a3238f2f2.pdf][Foundations of Software Science and Computation Structures : 21st International Conference, FOSSACS 2018, Held as Part of the European Joint Conferences on Theory and Practice of Software, ETAPS 2018, Thessaloniki, Greece, April 14–20, 2018. Proceedings] not found.\n",
      "Document [54246469-6cfa-471d-a7f9-33152739a8e8.pdf][Renewing Local Planning to Face Climate Change in the Tropics] not found.\n",
      "Document [137a7cb3-2bba-4889-95ce-d040b7816787.pdf][Clinical Text Mining : Secondary Use of Electronic Patient Records] not found.\n",
      "Document [a7bea9a6-bab3-4111-b337-69006b6bf25b.pdf][Knowledge Solutions : Tools, Methods, and Approaches To Drive organizational Performance] not found.\n",
      "Document [764b6cf4-7371-4494-8917-07da66e0ee6e.pdf][Air Quality integrated Assessment : a European Perspective] not found.\n",
      "Document [ab21a39c-d6e2-4a19-b289-14efa221f352.pdf][Social Theory of Fear] not found.\n",
      "Document [6ad2ad39-1a9b-44f7-bfa1-e64db6be65db.pdf][Non-Equilibrium Social Science and Policy : Introduction and Essays on New and Changing Paradigms in Socio-Economic Thinking] not found.\n",
      "Document [b7cf9c44-87dd-45c2-8fc8-8c881e51c117.pdf][Weather & Climate Services for the Energy Industry] not found.\n",
      "Document [ead2d28e-a679-4edc-a2ba-6d9d70b79def.pdf][Making Medicines in Africa : The Political Economy of industrializing For Local Health] not found.\n",
      "Document [140c573d-03d7-461a-b6be-7c4b40fba491.pdf][Dissecting the Criminal Corpse] not found.\n",
      "Document [f2ef011b-66f4-4dc6-a0c1-9b57aff0eb10.pdf][Iberian world empires and the globalization of europe 1415–1668 (Volume 1.0)] not found.\n",
      "Document [ee619017-bc54-4e63-8cc3-789c711bbb29.pdf][Contemporary Turkey at a Glance : Interdisciplinary Perspectives on Local and Translocal Dynamics] not found.\n"
     ]
    }
   ],
   "source": [
    "new_documents = []\n",
    "\n",
    "for document in documents:\n",
    "    filename = document[\"filename\"]\n",
    "    title = document[\"title\"]\n",
    "\n",
    "    if filename in document_filenames:\n",
    "        new_documents.append(document)\n",
    "    else:\n",
    "        print(f\"Document [{filename}][{title}] not found.\")"
   ]
  },
  {
   "cell_type": "code",
   "execution_count": 14,
   "metadata": {},
   "outputs": [
    {
     "name": "stdout",
     "output_type": "stream",
     "text": [
      "Before: 446\n",
      "After: 397\n"
     ]
    }
   ],
   "source": [
    "print(f\"Before: {len(documents)}\")\n",
    "print(f\"After: {len(new_documents)}\")"
   ]
  },
  {
   "cell_type": "code",
   "execution_count": 12,
   "metadata": {},
   "outputs": [],
   "source": [
    "with open(new_metadata_filepath, \"w\") as f:\n",
    "    json.dump(new_documents, f, indent=2, ensure_ascii=False)"
   ]
  }
 ],
 "metadata": {
  "kernelspec": {
   "display_name": "env",
   "language": "python",
   "name": "python3"
  },
  "language_info": {
   "codemirror_mode": {
    "name": "ipython",
    "version": 3
   },
   "file_extension": ".py",
   "mimetype": "text/x-python",
   "name": "python",
   "nbconvert_exporter": "python",
   "pygments_lexer": "ipython3",
   "version": "3.13.1"
  }
 },
 "nbformat": 4,
 "nbformat_minor": 2
}
