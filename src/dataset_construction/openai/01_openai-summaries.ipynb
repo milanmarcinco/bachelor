{
 "cells": [
  {
   "cell_type": "code",
   "execution_count": 2,
   "metadata": {},
   "outputs": [],
   "source": [
    "import time\n",
    "import json\n",
    "from openai import OpenAI\n",
    "from dotenv import dotenv_values\n"
   ]
  },
  {
   "cell_type": "code",
   "execution_count": 4,
   "metadata": {},
   "outputs": [],
   "source": [
    "env = dotenv_values()\n"
   ]
  },
  {
   "cell_type": "code",
   "execution_count": 5,
   "metadata": {},
   "outputs": [],
   "source": [
    "client = OpenAI(api_key=env['OPENAI_API_KEY'])\n"
   ]
  },
  {
   "cell_type": "markdown",
   "metadata": {},
   "source": [
    "# Helpers\n"
   ]
  },
  {
   "cell_type": "markdown",
   "metadata": {},
   "source": [
    "## File upload\n"
   ]
  },
  {
   "cell_type": "code",
   "execution_count": 229,
   "metadata": {},
   "outputs": [
    {
     "name": "stdout",
     "output_type": "stream",
     "text": [
      "file-VYEU7NsGqim4K6T9KRLreS f9fb2ac7-a262-4650-be40-8cf2e46a8fdc.pdf\n",
      "file-5e9px6frkpHDopN6VWFQSw f9fb2ac7-a262-4650-be40-8cf2e46a8fdc.pdf\n",
      "file-ATMpjNtUmctSy14DVqCPTz 0c0fcd32-e3a5-4585-a5f7-7f347c787d97.pdf\n"
     ]
    }
   ],
   "source": [
    "files_cursor = client.files.list(limit=100)\n",
    "files = [file for file in files_cursor]\n",
    "\n",
    "for file in files:\n",
    "  print(file.id, file.filename)\n"
   ]
  },
  {
   "cell_type": "code",
   "execution_count": 230,
   "metadata": {},
   "outputs": [
    {
     "name": "stdout",
     "output_type": "stream",
     "text": [
      "FileDeleted(id='file-VYEU7NsGqim4K6T9KRLreS', deleted=True, object='file')\n",
      "FileDeleted(id='file-5e9px6frkpHDopN6VWFQSw', deleted=True, object='file')\n",
      "FileDeleted(id='file-ATMpjNtUmctSy14DVqCPTz', deleted=True, object='file')\n"
     ]
    }
   ],
   "source": [
    "for file in files:\n",
    "  res = client.files.delete(file.id)\n",
    "  print(res)\n"
   ]
  },
  {
   "cell_type": "markdown",
   "metadata": {},
   "source": [
    "## Vector stores\n"
   ]
  },
  {
   "cell_type": "code",
   "execution_count": 6,
   "metadata": {},
   "outputs": [],
   "source": [
    "vector_stores = client.beta.vector_stores.list(limit=100)\n",
    "\n",
    "for vector_store in vector_stores:\n",
    "  res = client.beta.vector_stores.delete(vector_store.id)\n",
    "  print(res)\n"
   ]
  },
  {
   "cell_type": "markdown",
   "metadata": {},
   "source": [
    "## Messages\n"
   ]
  },
  {
   "cell_type": "code",
   "execution_count": 192,
   "metadata": {},
   "outputs": [
    {
     "name": "stdout",
     "output_type": "stream",
     "text": [
      "msg_eRFSTD20yUgBVeN2bTf3xqXG The document is a comprehensive introduction to mathematical logic, aimed primarily at first-year students at the Slovak Technical University in Bratislava. It outlines the fundamental concepts and techniques of both propositional and predicate logic, including the construction and interpretation of logical formulas. The text is organized into chapters that cover various topics, such as truth tables, tautologies, formal systems, semantic trees, and the resolution method, along with applications in electronics and neural networks. It elaborates on the Gentzen calculus, a syntactic method utilizing sequents for proof derivation, and delves into modal and many-valued logics, indicating different types of modal logic, including alethic, epistemic, temporal, and deontic. Each chapter serves as a lecture on its own, structured to facilitate self-study and includes numerous exercises to solidify understanding. The authors emphasize the necessity of a basic understanding for all students, regardless of their study year, while also recognizing that this text primarily provides an introduction rather than an exhaustive resource.\n",
      "msg_DmvYV9SYoukMPGU2StmzSdqR Summarize the provided document into a single paragraph of about 300 words, in the primary language that is most used throughout the document. Do not use any numbered lists or bullet points, do not cite sources. Return just plain text.\n"
     ]
    }
   ],
   "source": [
    "messages_cursor = client.beta.threads.messages.list(thread_id)\n",
    "messages = [message for message in messages_cursor]\n",
    "\n",
    "for message in messages:\n",
    "  print(message.id, message.content[0].text.value)\n"
   ]
  },
  {
   "cell_type": "code",
   "execution_count": 193,
   "metadata": {},
   "outputs": [],
   "source": [
    "for message in messages:\n",
    "  client.beta.threads.messages.delete(\n",
    "    message_id=message.id,\n",
    "    thread_id=thread_id\n",
    "  )\n"
   ]
  },
  {
   "cell_type": "markdown",
   "metadata": {},
   "source": [
    "# Pipeline"
   ]
  },
  {
   "cell_type": "code",
   "execution_count": 6,
   "metadata": {},
   "outputs": [],
   "source": [
    "assistant = client.beta.assistants.create(\n",
    "  name=\"asst_bachelor_summaries\",\n",
    "  instructions=\"You are a helpful document summarization assistant that follows user's instructions.\",\n",
    "  model=\"gpt-4o-mini\",\n",
    "  tools=[{ \"type\": \"file_search\" }]\n",
    ")\n"
   ]
  },
  {
   "cell_type": "code",
   "execution_count": 10,
   "metadata": {},
   "outputs": [],
   "source": [
    "# prompt_content = \"Summarize the provided document into a single paragraph of about 300 words, in the primary language that is most used throughout the document. Do not use any numbered lists or bullet points, do not cite sources. Return just plain text.\"\n",
    "\n",
    "# prompt_content = \"Summarize the provided document into a single paragraph of about 250 to 350 words, in the primary language that is most used throughout the document. Do not use any numbered lists or bullet points, do not cite sources. Return just plain text. Talk only about the contents, not the document itself.\"\n",
    "\n",
    "prompt_content = \"\"\"\n",
    "  # Task\n",
    "\n",
    "  1. **Identify the Language:** Please begin by identifying the language of the provided PDF document. Ensure the identification is accurate and based on the primary language used throughout the document.\n",
    "\n",
    "  2. **Summarize the Document:** Once the language is identified, summarize the content of the document into a single paragraph of 250-300 words. Ensure the summary is written in the same language as the original document. Maintain the core meaning, themes, and key details while keeping the summary concise and coherent.\n",
    "\n",
    "  3. **Output Requirements:**\n",
    "    - Provide only the summary in the identified language.\n",
    "    - Do not include the identified language, sources, citations, or any special formatting (such as numbered lists, bullet points...) in the output.\n",
    "\n",
    "  ### Additional Notes:\n",
    "  - If the document is multilingual, identify the primary language used in the document's main body and provide the summary in that language.\n",
    "\n",
    "\"\"\"\n",
    "\n",
    "def get_summary(filename):\n",
    "  file = client.files.create(\n",
    "    file=open(f\"../../../dataset/{filename}\", \"rb\"),\n",
    "    purpose=\"assistants\",\n",
    "  )\n",
    "  \n",
    "  vector_store = client.beta.vector_stores.create(\n",
    "    file_ids=[file.id],\n",
    "  )\n",
    "\n",
    "  thread = client.beta.threads.create(\n",
    "    tool_resources={\n",
    "      \"file_search\": {\n",
    "        \"vector_store_ids\": [vector_store.id]\n",
    "      }\n",
    "    }\n",
    "  )\n",
    "  \n",
    "  client.beta.threads.messages.create(\n",
    "    thread_id=thread.id,\n",
    "    content=prompt_content,\n",
    "    attachments=[{\n",
    "      \"file_id\": file.id,\n",
    "      \"tools\": [{ \"type\": \"file_search\" }]\n",
    "    }],\n",
    "    role=\"user\"\n",
    "  )\n",
    "\n",
    "  run = client.beta.threads.runs.create_and_poll(\n",
    "    thread_id=thread.id,\n",
    "    assistant_id=assistant.id,\n",
    "  )\n",
    "\n",
    "  if run.status != \"completed\":\n",
    "    raise Exception(\"Run failed:\", run.status)\n",
    "\n",
    "  messages_cursor = client.beta.threads.messages.list(thread.id)\n",
    "  messages = [message for message in messages_cursor]\n",
    "  message = messages[0]\n",
    "\n",
    "  response_content = message.content[0].text.value\n",
    "\n",
    "  client.files.delete(file.id)\n",
    "  client.beta.vector_stores.delete(vector_store.id)\n",
    "  client.beta.threads.delete(thread.id)\n",
    "\n",
    "  return response_content\n"
   ]
  },
  {
   "cell_type": "code",
   "execution_count": 8,
   "metadata": {},
   "outputs": [
    {
     "name": "stdout",
     "output_type": "stream",
     "text": [
      "[{'pk': '8288e199-5927-4eb1-8c40-07387287264f', 'filename': '8288e199-5927-4eb1-8c40-07387287264f.pdf', 'title': 'Odporúčanie pre softvérových inžinierov'}]\n"
     ]
    }
   ],
   "source": [
    "# Single document\n",
    "\n",
    "with open(\"../../../dataset/_merged.json\") as f:\n",
    "  documents = json.load(f)\n",
    "  documents = [documents[0]]\n",
    "\n",
    "print(documents)"
   ]
  },
  {
   "cell_type": "code",
   "execution_count": null,
   "metadata": {},
   "outputs": [],
   "source": [
    "# Batch of documents\n",
    "\n",
    "with open(\"../../dataset/_merged.json\") as f:\n",
    "  documents = json.load(f)\n",
    "  documents = [documents[0]]\n",
    "\n",
    "print(documents)\n"
   ]
  },
  {
   "cell_type": "code",
   "execution_count": 12,
   "metadata": {},
   "outputs": [
    {
     "name": "stdout",
     "output_type": "stream",
     "text": [
      "[1/1]: Odporúčanie pre softvérových inžinierov\n",
      "Práca sa zameriava na odporúčacie systémy v softvérovom inžinierstve, obzvlášť na systémy založené na znovupoužití zdrojového kódu a manažmente problémov. Odporúčacie systémy slúžia na uľahčenie práce vývojárov pri akvizičnom a implementačnom procese, a ich hlavnou funkciou je poskytovať rady ohľadom efektívneho využitia existujúceho kódu, ako aj na spracovanie a dokumentovanie chýb. Kapitola skúma prípady, ako sa dajú využiť systémy na sledovanie chýb na zlepšenie kvality kódu a redukciu výskytu chýb. Diskutuje tiež o procesoch refaktoringu, ktorý zlepšuje štruktúru kódu bez ovplyvnenia jeho vonkajšieho správania, a uvádza konkrétne techniky, ako sú vyňatie triedy alebo metódy. Ďalšie aspekty práce sa zameriavajú na interakcie programátorov s týmito systémami a na to, ako možno zachytiť a analyzovať ich činnosť, aby sa zabezpečilo lepšie porozumenie vzorcom a problémom, s ktorými sa stretávajú. Výskum tiež zdôrazňuje význam presného modelovania programátorov a správneho používania doručovateľských metód, aby sa zlepšila účinnosť a efektivita pri práci s komplexným softvérom.\n"
     ]
    }
   ],
   "source": [
    "results = []\n",
    "\n",
    "for i, document in enumerate(documents):\n",
    "  title = document['title']\n",
    "  filename = document['filename']\n",
    "  summary = get_summary(filename)\n",
    "\n",
    "  print(f\"[{i + 1}/{len(documents)}]: {title}\")\n",
    "  print(summary)\n",
    "  print\n",
    "\n",
    "  results.append({\n",
    "    \"id\": document['pk'],\n",
    "    \"title\": document['title'],\n",
    "    \"summary\": summary,\n",
    "  })\n",
    "\n",
    "  # time.sleep(65)\n"
   ]
  },
  {
   "cell_type": "code",
   "execution_count": null,
   "metadata": {},
   "outputs": [],
   "source": [
    "with open('01_summaries.json', 'w') as f:\n",
    "  json.dump(results, f, indent=2, ensure_ascii=False)\n"
   ]
  },
  {
   "cell_type": "code",
   "execution_count": 13,
   "metadata": {},
   "outputs": [
    {
     "name": "stdout",
     "output_type": "stream",
     "text": [
      "AssistantDeleted(id='asst_11TWkTclGjyGoi2szsYFkfye', deleted=True, object='assistant.deleted')\n"
     ]
    }
   ],
   "source": [
    "res = client.beta.assistants.delete(assistant.id)\n",
    "print(res)\n"
   ]
  }
 ],
 "metadata": {
  "kernelspec": {
   "display_name": "env",
   "language": "python",
   "name": "python3"
  },
  "language_info": {
   "codemirror_mode": {
    "name": "ipython",
    "version": 3
   },
   "file_extension": ".py",
   "mimetype": "text/x-python",
   "name": "python",
   "nbconvert_exporter": "python",
   "pygments_lexer": "ipython3",
   "version": "3.13.1"
  }
 },
 "nbformat": 4,
 "nbformat_minor": 2
}
