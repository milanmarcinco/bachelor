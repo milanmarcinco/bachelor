{
 "cells": [
  {
   "cell_type": "code",
   "execution_count": 2,
   "metadata": {},
   "outputs": [],
   "source": [
    "import time\n",
    "import json\n",
    "from openai import OpenAI\n",
    "from dotenv import dotenv_values\n"
   ]
  },
  {
   "cell_type": "code",
   "execution_count": 3,
   "metadata": {},
   "outputs": [],
   "source": [
    "env = dotenv_values()"
   ]
  },
  {
   "cell_type": "code",
   "execution_count": 4,
   "metadata": {},
   "outputs": [],
   "source": [
    "client = OpenAI(api_key=env['OPENAI_API_KEY'])\n",
    "assistant_id = \"asst_VdhqgK4Hy3hwkUdr6NBSsas7\"\n"
   ]
  },
  {
   "cell_type": "markdown",
   "metadata": {},
   "source": [
    "# Helpers\n"
   ]
  },
  {
   "cell_type": "markdown",
   "metadata": {},
   "source": [
    "## File upload\n"
   ]
  },
  {
   "cell_type": "code",
   "execution_count": 229,
   "metadata": {},
   "outputs": [
    {
     "name": "stdout",
     "output_type": "stream",
     "text": [
      "file-VYEU7NsGqim4K6T9KRLreS f9fb2ac7-a262-4650-be40-8cf2e46a8fdc.pdf\n",
      "file-5e9px6frkpHDopN6VWFQSw f9fb2ac7-a262-4650-be40-8cf2e46a8fdc.pdf\n",
      "file-ATMpjNtUmctSy14DVqCPTz 0c0fcd32-e3a5-4585-a5f7-7f347c787d97.pdf\n"
     ]
    }
   ],
   "source": [
    "files_cursor = client.files.list(limit=100)\n",
    "files = [file for file in files_cursor]\n",
    "\n",
    "for file in files:\n",
    "  print(file.id, file.filename)\n"
   ]
  },
  {
   "cell_type": "code",
   "execution_count": 230,
   "metadata": {},
   "outputs": [
    {
     "name": "stdout",
     "output_type": "stream",
     "text": [
      "FileDeleted(id='file-VYEU7NsGqim4K6T9KRLreS', deleted=True, object='file')\n",
      "FileDeleted(id='file-5e9px6frkpHDopN6VWFQSw', deleted=True, object='file')\n",
      "FileDeleted(id='file-ATMpjNtUmctSy14DVqCPTz', deleted=True, object='file')\n"
     ]
    }
   ],
   "source": [
    "for file in files:\n",
    "  res = client.files.delete(file.id)\n",
    "  print(res)\n"
   ]
  },
  {
   "cell_type": "markdown",
   "metadata": {},
   "source": [
    "## Vector stores\n"
   ]
  },
  {
   "cell_type": "code",
   "execution_count": 6,
   "metadata": {},
   "outputs": [],
   "source": [
    "vector_stores = client.beta.vector_stores.list(limit=100)\n",
    "\n",
    "for vector_store in vector_stores:\n",
    "  res = client.beta.vector_stores.delete(vector_store.id)\n",
    "  print(res)\n"
   ]
  },
  {
   "cell_type": "markdown",
   "metadata": {},
   "source": [
    "## Messages\n"
   ]
  },
  {
   "cell_type": "code",
   "execution_count": 192,
   "metadata": {},
   "outputs": [
    {
     "name": "stdout",
     "output_type": "stream",
     "text": [
      "msg_eRFSTD20yUgBVeN2bTf3xqXG The document is a comprehensive introduction to mathematical logic, aimed primarily at first-year students at the Slovak Technical University in Bratislava. It outlines the fundamental concepts and techniques of both propositional and predicate logic, including the construction and interpretation of logical formulas. The text is organized into chapters that cover various topics, such as truth tables, tautologies, formal systems, semantic trees, and the resolution method, along with applications in electronics and neural networks. It elaborates on the Gentzen calculus, a syntactic method utilizing sequents for proof derivation, and delves into modal and many-valued logics, indicating different types of modal logic, including alethic, epistemic, temporal, and deontic. Each chapter serves as a lecture on its own, structured to facilitate self-study and includes numerous exercises to solidify understanding. The authors emphasize the necessity of a basic understanding for all students, regardless of their study year, while also recognizing that this text primarily provides an introduction rather than an exhaustive resource.\n",
      "msg_DmvYV9SYoukMPGU2StmzSdqR Summarize the provided document into a single paragraph of about 300 words, in the primary language that is most used throughout the document. Do not use any numbered lists or bullet points, do not cite sources. Return just plain text.\n"
     ]
    }
   ],
   "source": [
    "messages_cursor = client.beta.threads.messages.list(thread_id)\n",
    "messages = [message for message in messages_cursor]\n",
    "\n",
    "for message in messages:\n",
    "  print(message.id, message.content[0].text.value)\n"
   ]
  },
  {
   "cell_type": "code",
   "execution_count": 193,
   "metadata": {},
   "outputs": [],
   "source": [
    "for message in messages:\n",
    "  client.beta.threads.messages.delete(\n",
    "    message_id=message.id,\n",
    "    thread_id=thread_id\n",
    "  )\n"
   ]
  },
  {
   "cell_type": "markdown",
   "metadata": {},
   "source": [
    "# Pipeline"
   ]
  },
  {
   "cell_type": "code",
   "execution_count": 30,
   "metadata": {},
   "outputs": [],
   "source": [
    "assistant = client.beta.assistants.create(\n",
    "  name=\"asst_bachelor_summaries\",\n",
    "  instructions=\"You are a helpful document summarization assistant that follows user's instructions.\",\n",
    "  model=\"gpt-4o-mini\",\n",
    "  tools=[{ \"type\": \"file_search\" }]\n",
    ")\n"
   ]
  },
  {
   "cell_type": "code",
   "execution_count": 31,
   "metadata": {},
   "outputs": [],
   "source": [
    "# prompt_content = \"Summarize the provided document into a single paragraph of about 300 words, in the primary language that is most used throughout the document. Do not use any numbered lists or bullet points, do not cite sources. Return just plain text.\"\n",
    "\n",
    "prompt_content = \"Summarize the provided document into a single paragraph of about 250 to 350 words, in the primary language that is most used throughout the document. Do not use any numbered lists or bullet points, do not cite sources. Return just plain text. Talk only about the contents, not the document itself.\"\n",
    "\n",
    "def get_summary(filename):\n",
    "  file = client.files.create(\n",
    "    file=open(f\"../../../dataset/{filename}\", \"rb\"),\n",
    "    purpose=\"assistants\",\n",
    "  )\n",
    "  \n",
    "  vector_store = client.beta.vector_stores.create(\n",
    "    file_ids=[file.id],\n",
    "  )\n",
    "\n",
    "  thread = client.beta.threads.create(\n",
    "    tool_resources={\n",
    "      \"file_search\": {\n",
    "        \"vector_store_ids\": [vector_store.id]\n",
    "      }\n",
    "    }\n",
    "  )\n",
    "  \n",
    "  client.beta.threads.messages.create(\n",
    "    thread_id=thread.id,\n",
    "    content=prompt_content,\n",
    "    attachments=[{\n",
    "      \"file_id\": file.id,\n",
    "      \"tools\": [{ \"type\": \"file_search\" }]\n",
    "    }],\n",
    "    role=\"user\"\n",
    "  )\n",
    "\n",
    "  run = client.beta.threads.runs.create_and_poll(\n",
    "    thread_id=thread.id,\n",
    "    assistant_id=assistant.id,\n",
    "  )\n",
    "\n",
    "  if run.status != \"completed\":\n",
    "    raise Exception(\"Run failed:\", run.status)\n",
    "\n",
    "  messages_cursor = client.beta.threads.messages.list(thread.id)\n",
    "  messages = [message for message in messages_cursor]\n",
    "  message = messages[0]\n",
    "\n",
    "  response_content = message.content[0].text.value\n",
    "\n",
    "  client.files.delete(file.id)\n",
    "  client.beta.vector_stores.delete(vector_store.id)\n",
    "  client.beta.threads.delete(thread.id)\n",
    "\n",
    "  return response_content\n"
   ]
  },
  {
   "cell_type": "code",
   "execution_count": 32,
   "metadata": {},
   "outputs": [
    {
     "name": "stdout",
     "output_type": "stream",
     "text": [
      "[{'pk': '8288e199-5927-4eb1-8c40-07387287264f', 'filename': '8288e199-5927-4eb1-8c40-07387287264f.pdf', 'title': 'Odporúčanie pre softvérových inžinierov'}]\n"
     ]
    }
   ],
   "source": [
    "# Single document\n",
    "\n",
    "with open(\"../../../dataset/_merged.json\") as f:\n",
    "  documents = json.load(f)\n",
    "  documents = [documents[0]]\n",
    "\n",
    "print(documents)"
   ]
  },
  {
   "cell_type": "code",
   "execution_count": null,
   "metadata": {},
   "outputs": [],
   "source": [
    "# Batch of documents\n",
    "\n",
    "with open(\"../../dataset/_merged.json\") as f:\n",
    "  documents = json.load(f)\n",
    "  documents = [documents[0]]\n",
    "\n",
    "print(documents)\n"
   ]
  },
  {
   "cell_type": "code",
   "execution_count": 33,
   "metadata": {},
   "outputs": [
    {
     "name": "stdout",
     "output_type": "stream",
     "text": [
      "[1/1]: Odporúčanie pre softvérových inžinierov\n",
      "Odporúčacie systémy v oblasti softvérového inžinierstva zohrávajú kľúčovú úlohu pri podpore vývojárov pri rôznych úlohách, ako sú znovupoužitie zdrojového kódu a efektívne písanie chybových hlásení. Tieto systémy analýzujú zdrojový kód a iné artefakty, aby poskytli relevantné odporúčania týkajúce sa používania aplikačných rozhraní (API) a knižníc, ako aj pomoc pri tvorbe nových metód, opravách chýb a zlepšovaní znovupoužiteľnosti. Vývoj odporúčacieho systému je proces, ktorý si vyžaduje starostlivé plánovanie a rozhodovanie. Existujú dva hlavné prístupy, ktoré využívač odporúčacích systémov aplikuje: filtrovanie na základe obsahu, kde sa odporúča na základe podobnosti vlastností aktuálneho dokumentu, a kolaboratívne filtrovanie, ktoré sa opiera o preferencie ostatných používateľov. Systémy sú navrhnuté tak, aby riešili komplexné problémy, ako sú adaptácia nováčikov v projektoch a efektívne rozdelenie úloh vo veľkých projektoch. Taktiež sa zameriavajú na detekciu duplicitných úloh, čo prispieva k väčšej efektivite v pracovnom procese. Odporúčacie systémy čelí rôznym výzvam pri poskytovaní presných a dôveryhodných odporúčaní; úspešná implementácia zahŕňa optimalizáciu interakcie s používateľom, transparentnosť, a rozšírenie funkčnosti do integrovaného vývojového prostredia. Konečným cieľom týchto systémov je zjednodušiť prácu vývojárov a zlepšiť efektivitu softvérového inžinierstva.\n"
     ]
    }
   ],
   "source": [
    "results = []\n",
    "\n",
    "for i, document in enumerate(documents):\n",
    "  title = document['title']\n",
    "  filename = document['filename']\n",
    "  summary = get_summary(filename)\n",
    "\n",
    "  print(f\"[{i + 1}/{len(documents)}]: {title}\")\n",
    "  print(summary)\n",
    "  print\n",
    "\n",
    "  results.append({\n",
    "    \"id\": document['pk'],\n",
    "    \"title\": document['title'],\n",
    "    \"summary\": summary,\n",
    "  })\n",
    "\n",
    "  # time.sleep(65)\n"
   ]
  },
  {
   "cell_type": "code",
   "execution_count": null,
   "metadata": {},
   "outputs": [],
   "source": [
    "with open('01_summaries.json', 'w') as f:\n",
    "  json.dump(results, f, indent=2, ensure_ascii=False)\n"
   ]
  },
  {
   "cell_type": "code",
   "execution_count": 34,
   "metadata": {},
   "outputs": [
    {
     "name": "stdout",
     "output_type": "stream",
     "text": [
      "AssistantDeleted(id='asst_oqvaFiHn4c085L0RMOJre7Ak', deleted=True, object='assistant.deleted')\n"
     ]
    }
   ],
   "source": [
    "res = client.beta.assistants.delete(assistant.id)\n",
    "print(res)\n"
   ]
  }
 ],
 "metadata": {
  "kernelspec": {
   "display_name": "env",
   "language": "python",
   "name": "python3"
  },
  "language_info": {
   "codemirror_mode": {
    "name": "ipython",
    "version": 3
   },
   "file_extension": ".py",
   "mimetype": "text/x-python",
   "name": "python",
   "nbconvert_exporter": "python",
   "pygments_lexer": "ipython3",
   "version": "3.13.1"
  }
 },
 "nbformat": 4,
 "nbformat_minor": 2
}
