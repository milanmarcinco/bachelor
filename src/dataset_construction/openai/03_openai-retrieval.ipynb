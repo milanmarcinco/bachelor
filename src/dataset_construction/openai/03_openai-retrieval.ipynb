{
 "cells": [
  {
   "cell_type": "code",
   "execution_count": 1,
   "metadata": {},
   "outputs": [],
   "source": [
    "import time\n",
    "import json\n",
    "from openai import OpenAI\n",
    "from dotenv import dotenv_values\n"
   ]
  },
  {
   "cell_type": "code",
   "execution_count": 2,
   "metadata": {},
   "outputs": [],
   "source": [
    "env = dotenv_values()\n"
   ]
  },
  {
   "cell_type": "code",
   "execution_count": 3,
   "metadata": {},
   "outputs": [],
   "source": [
    "client = OpenAI(api_key=env['OPENAI_API_KEY'])\n",
    "assistant_id = \"asst_FLAPdrar0EUZgucq1x5aXlER\"\n"
   ]
  },
  {
   "cell_type": "code",
   "execution_count": 16,
   "metadata": {},
   "outputs": [],
   "source": [
    "prompt_base = \"For the user search query provided below, return a subset of documents provided above, which should be retrieved by the query. Format your response as a JSON array of strings, where each string represents the document ID of a document that should be retrieved. If you believe that no documents should be retrieved, return an empty array.\"\n",
    "\n",
    "prompt_base = \"For the user search query provided below, return a subset of documents provided above, which should be retrieved by the query. Format your response as a JSON array of object, where each object consists of the document ID and document title of a document that should be retrieved. If you believe that no documents should be retrieved, return an empty array.\"\n",
    "\n",
    "def get_retrieval_prompt(query):\n",
    "  return f\"\"\"\n",
    "    {prompt_base}\n",
    "\n",
    "    Query: \"{query}\"\n",
    "  \"\"\"\n"
   ]
  },
  {
   "cell_type": "code",
   "execution_count": 24,
   "metadata": {},
   "outputs": [
    {
     "name": "stdout",
     "output_type": "stream",
     "text": [
      "[\n",
      "  {\n",
      "    \"id\": \"8288e199-5927-4eb1-8c40-07387287264f\",\n",
      "    \"title\": \"Odporúčanie pre softvérových inžinierov\",\n",
      "    \"summary\": \"Dokument sa zaoberá vývojom odporúčacích systémov orientovaných na softvér, pričom zdôrazňuje potrebu refaktoringu a zlepšovania kvality kódu. Refaktoring je proces, ktorý zlepšuje štruktúru existujúceho zdrojového kódu bez zmeny jeho vonkajšieho správania, pričom sa zameriava na odstránenie pachov v kóde, ako sú duplikovaný kód, dlhé metódy a veľké triedy. Práce analyzujú jednotlivé refaktorovacie operácie, ako vyňatie triedy, metódy, či balíka, ktoré prispievajú k vyššej čitateľnosti a zníženiu zložitosti kódu. Ďalej sa diskutuje o systémoch pre detekciu a správu duplicít v projektoch, čo je častý problém, najmä v open-source projektoch, kde je často vysoká miera duplicít. Odporúčacie systémy, ktoré navrhujú spôsoby zlepšenia procesov a znižovanie duplicít, môžu zlepšiť efektivitu tým, že používateľom ponúkajú odporúčania v podobe textových správ alebo vizualizácií, čo uľahčuje pochopenie navrhovaných zmien. Zvláštnu pozornosť si zasluhuje vývoj odporúčacích systémov, ktoré majú potenciál analyzovať interakcie programátorov so zdrojovým kódom a poskytovať úpravy, ktoré zohľadňujú historické dáta, pričom sa kladie dôraz na zachovávanie kvality a udržateľnosti kódu počas vývoja softvéru. Celkový cieľ dokumentu spočíva v prezentácii bypassov a techník, ktoré môžu prispieť k lepšiemu manažmentu problémov a efektívnejšiemu refaktoringu.\"\n",
      "  },\n",
      "  {\n",
      "    \"id\": \"9e5b6ea5-2728-4496-9e49-82732bbcabc7\",\n",
      "    \"title\": \"Úvod do matematickej logiky\",\n",
      "    \"summary\": \"The document titled \\\"Úvod do matematickej logiky\\\" serves as a comprehensive introduction to the subject of mathematical logic, primarily intended for first-year students at the Slovak University of Technology in Bratislava. It is structured into eleven chapters, each corresponding to a lecture, covering foundational topics such as propositional logic, truth tables, tautologies, first-order logic, and more advanced notions like modal and multi-valued logics. Alongside a formal introduction to various axioms, rules of inference, and semantic structures, it elaborates upon theorems and proofs, particularly Gödel's completeness theorem. The text emphasizes the importance of rigorous logical reasoning and the systematic derivation of logical propositions, aiming to provide students with essential knowledge to successfully navigate their studies in computer science and information technology. The chapters incorporate exercises to reinforce understanding, and while it provides a succinct overview of mathematical logic, it encourages students to pursue specialized literature for deeper insights. This resource is noted for its clarity and structured approach, making complex concepts accessible for learners new to the subject. Overall, it highlights the critical role of logic in mathematics and the broader implications of logical reasoning in various fields of study.\"\n",
      "  },\n",
      "  {\n",
      "    \"id\": \"55045d27-c5f1-4c31-b1ed-fccd2eb0d676\",\n",
      "    \"title\": \"Algebra a diskrétna  matematika\",\n",
      "    \"summary\": \"Táto učebnica je určená študentom fakulty informatiky a informačných technológií, s cieľom poskytnúť komplexný prehľad o algebraických a diskrétnych matematických koncepciách, ktoré sú kľúčové pre informatiku. Obsahuje kapitoly o metódach matematického dôkazu, teórii množín, kombinatorike, boolovskej algebre, maticovej algebre, a teórii grafov. Každá kapitola je podrobne spracovaná a ilustrovaná množstvom praktických príkladov, ktoré pomáhajú študentom lepšie pochopiť teoretické koncepty. Učebnica pokrýva aj aplikácie týchto konceptov v informatike, pričom sa zameriava na rozvoj rigorózneho matematického myslenia a schopnosti pre riešenie problémov. Okrem teoretických poznatkov obsahuje aj cvičenia a zhrnutia, ktoré poskytujú študentom príležitosti na upevnenie naučených informácií. Cieľom autorov je, aby študenti získali pevné základy v základných oblastiach diskrétnej matematiky, ktoré sú nevyhnutné pre ich ďalšie štúdium a prax v oblasti informatiky. Učebnica je výsledkom spolupráce viacerých autorov a zahŕňa aj podnety od študentov, čo prispeje k jej zrozumiteľnosti a relevantnosti v praxi.\"\n",
      "  },\n",
      "  {\n",
      "    \"id\": \"dd4675da-d675-4d11-ad8c-10860daab977\",\n",
      "    \"title\": \"Základy digitálnych mien a blockchain sietí\",\n",
      "    \"summary\": \"Dokument sa zaoberá základmi digitálnych mien a blockchain technológií. Obsahuje úvod do blockchainu, s podrobným pohľadom na rôzne kryptomeny ako Bitcoin a Ethereum. Čitateľ sa dozvie, ako fungujú tieto systémy, aké sú ich protokoly a aplikácie, pričom sa zameriava na smart kontrakty v Ethereum, programovaní v jazyku Solidity a problémy škálovateľnosti blockchainových sietí. Publikácia tiež diskutuje o otázkach bezpečnosti v ekosystéme, vrátane súkromných a decentralizovaných mien a ich vhodnosti pre rôzne aplikácie. K nižšej úrovni blokovej technológie patrí aj analýza vrstiev interakcie v priemysle a interoperabilite blockchainov. Významnú časť dokumentu predstavuje diskusia o decentralizovaných financiách a ich regulácii, ako aj o právnych a ekonomických aspektoch kryptomien. Na záver sú predstavené inovatívne aplikácie z regiónu, ako napríklad Mangata finance a SubSquid, ktoré ilustrujú prax a inováciu v oblasti blockchainových technológií. Celkovo je materiál určený študentom a odborníkom, ktorí sa zaujímajú o digitálne meny, blockchain a ich praktické využitie v modernom svete.\"\n",
      "  },\n",
      "  {\n",
      "    \"id\": \"c6566bb1-6d34-4c8b-a967-785e4ccf9492\",\n",
      "    \"title\": \"Quantum Computing for Everyone\",\n",
      "    \"summary\": \"The document is an introductory guide to quantum computing, designed to be accessible to readers with a basic understanding of high school mathematics. It elucidates fundamental concepts such as qubits, entanglement, and quantum algorithms without overwhelming the reader with complex mathematics. The author emphasizes how quantum computing diverges from classical computing, primarily through the unique properties of qubits, which can exist in superpositions of states. The book discusses important quantum mechanics concepts, including measurements that change the state of a qubit and the phenomenon of entanglement, where the state of one qubit immediately influences another, regardless of distance—an aspect that challenges our classical intuitions. Chapters delve into linear algebra as it underpins quantum computing, explore notable quantum algorithms including Shor’s and Grover’s algorithms, and address quantum cryptography protocols like BB84. The discussion extends to the implications of quantum computing for computer science and security measures, especially how these technologies threaten traditional encryption methods. The narrative also touches upon the ongoing advancements in quantum hardware and real-world applications, highlighting entities such as IBM and Google in the race toward quantum supremacy, where quantum computers could outperform classical ones on specific problems. Ultimately, the document aims to clarify the profound shift quantum computing represents in our understanding of computation, positing it as a more fundamental approach than classical computing.\"\n",
      "  },\n",
      "  {\n",
      "    \"id\": \"5add311d-cc6e-4d67-9b18-8301a1e7d070\",\n",
      "    \"title\": \"Sprievodca licenciami Creative Commons\",\n",
      "    \"summary\": \"Dokument sa zaoberá právami autorov a licenciami Creative Commons, pričom detailne popisuje, ako autorské právo funguje v rámci slovenskej legislatívy. Základným právnym predpisom je Autorský zákon, ktorý chráni dielo autora hneď od jeho vyjadrenia v zrozumiteľnej forme a nie je podmienený jeho zverejnením. Autorské právo zahŕňa osobnostné a majetkové práva, pričom osobnostné práva zostávajú autorovi neprevoditeľné a chránia jeho autorstvo a integritu diela. Dokument sa zameriava aj na problematiku licencií Creative Commons, ktoré umožňujú flexibilnejšie zdieľanie a opätovné využitie obsahu. Tieto licencie sú predstavené ako prostredok medzi autorským právom a otvoreným prístupom, vyžadujúc uvedenie pôvodného autora pri akomkoľvek použití. V guide sú podrobne vysvetlené rôzne typy licencií CC a ich aplikácia na výskumné dáta. Nielenže poskytuje cenné informácie pre autorov monografií v oblasti humanitných a spoločenských vied, ale taktiež vyjadruje obavy a často položené otázky týkajúce sa prístupnosti a zdieľania akademického obsahu. Celkovo sa sprievodca snaží osvetliť problematiku autorských práv a podporiť transparentnosť v oblasti otvoreného prístupu a jeho legislatívneho zázemia v Slovenskej republike.\"\n",
      "  },\n",
      "  {\n",
      "    \"id\": \"60e4a65e-bd07-4360-ad26-b8c712ea3f53\",\n",
      "    \"title\": \"LATEXovník - Štruktúra zdrojového súboru\",\n",
      "    \"summary\": \"The document provides a comprehensive guide to LaTeX, a typesetting system widely used for producing scientific and mathematical documents. It covers essential elements such as the structure of LaTeX documents, including how to design titles, authorship, and the overall layout of content. Important packages necessary for various functionalities are discussed, alongside commands specific to text formatting and mathematical expressions. The document explains how to create lists, tables, and figures, emphasizing the use of environments such as verbatim for code and quotation. Specific features like font size adjustments, color usage, and unique symbols are also included, making the guide practical for more complex documents. Additionally, users are introduced to the basics of crafting math mode equations and employing operators, ensuring clarity in displaying formulas. Overall, the document serves as a practical reference for both novice and experienced LaTeX users, offering detailed instructions and insights into creating structured, professional-looking documents efficiently.\"\n",
      "  },\n",
      "  {\n",
      "    \"id\": \"0c0fcd32-e3a5-4585-a5f7-7f347c787d97\",\n",
      "    \"title\": \"Úvod do matematickej analýzy; Zbierka riešených príkladov\",\n",
      "    \"summary\": \"The document \\\"Úvod do matematickej analýzy\\\" serves as a foundational resource for understanding mathematical analysis, specifically aimed at students in computer science and information technology programs. It encompasses a range of topics critical to the field, including the essentials of limits, functions, continuity, differentiation, and integration. The structure is designed to facilitate comprehension through solved examples that illustrate theoretical concepts in practical applications. The text is composed of various sections, each elaborating on specific aspects of mathematical analysis, supported by visual aids and tables that enhance learning. Given its pedagogical focus, the book emphasizes clarity and methodical progression from basic principles to more advanced theories, aiming to prepare readers for complex problem-solving scenarios they may encounter in further studies or professional environments. Furthermore, it is backed by academic validation and is intended to align with contemporary educational standards within technical university curricula. The publication not only contributes academically but also engages with the reader through interactive problem sets that reinforce the core concepts of mathematical analysis necessary for the development of robust computational skills. Overall, this document is a comprehensive guide that encapsulates the fundamental principles of mathematical analysis while providing practical tools for students to apply these concepts in their academic and future professional pursuits.\"\n",
      "  },\n",
      "  {\n",
      "    \"id\": \"22467151-271b-49c2-85c7-197696e27903\",\n",
      "    \"title\": \"Umelá inteligencia a kognitívna veda II\",\n",
      "    \"summary\": \"The document discusses Echo State Networks (ESNs), a specific type of recurrent neural network designed for complex processing tasks. ESNs differ from traditional recurrent networks by utilizing a large, sparsely connected reservoir of units where input data is transformed into a dynamic response without training the entire network. Instead, only the output layer is trained based on the features learned by the reservoir, employing previously established dynamics to predict outputs from various inputs. The architecture includes input, hidden, and output layers, but the critical innovation lies in the use of the echo state property, which ensures that the network's state at any time is significantly influenced by past inputs and outputs. This property is indispensable for the learning capability of ESNs, as it allows them to approximate complex, nonlinear dynamic behaviors efficiently. The network's training involves adjusting the weights of the output layer while maintaining the random weights of the reservoir, which simplifies the training procedure substantially. Furthermore, the document elaborates on the mathematical foundations of ESNs, delving into concepts such as spectral radius and contraction properties, which are essential for ensuring stable and accurate learning. The performance of ESNs is contingent on their design choices, like the selection of the reservoir size and the weight distribution, impacting their ability to retain information over time and accurately model dynamic systems. Overall, the text provides a comprehensive insight into the design, mathematical background, and operational principles of Echo State Networks, highlighting their significance in the domain of artificial intelligence and cognitive sciences.\"\n",
      "  },\n",
      "  {\n",
      "    \"id\": \"7e840a4f-7165-476b-9317-6178a63cf974\",\n",
      "    \"title\": \"O softvéri od A po Z ; Úvahy nastupujúcich profesionálov\",\n",
      "    \"summary\": \"The document provides a comprehensive overview of project management best practices, emphasizing the critical role of structured planning in achieving project goals. It outlines the importance of risk assessment and mitigation strategies, ensuring that potential challenges are identified early in the process. The text advocates for continuous monitoring and evaluation of project performance, highlighting various methodologies for maintaining control and accountability throughout the project lifecycle. Furthermore, it discusses the necessity of clear communication among team members and stakeholders, which fosters collaboration and facilitates timely decision-making. Attention is given to the documentation process, with recommendations for creating detailed project plans that outline objectives, timelines, and resources required. The use of tools and techniques for tracking progress and measuring outcomes is also emphasized, as they aid in making informed adjustments when necessary. The document underscores that flexibility in planning and execution is vital, enabling teams to respond effectively to unforeseen circumstances and changes in project scope. Overall, it serves as a valuable resource for project managers seeking to enhance their skills and ensure the successful delivery of projects across various industries.\"\n",
      "  },\n",
      "  {\n",
      "    \"id\": \"834e69d9-b698-4af5-90e8-203d17b2ba68\",\n",
      "    \"title\": \"Vybrané metódy inžinierskej práce\",\n",
      "    \"summary\": \"Dokument s názvom \\\"Vybrané metódy inžinierskej práce: Spoločné písanie v LATEXu\\\" od autora Jána Langa predstavuje podrobný návod na efektívne použitie systému LATEX pre tvorbu technických a akademických dokumentov. V úvode sa zameriava na význam a prínos spoločného písania, pričom vyzdvihuje aj využitie cloudového riešenia Overleaf, ktoré umožňuje spoluprácu viacerých autorov. Ďalšie sekcie dokumentu sa zaoberajú základnými aspektmi písania v LATEXe, ako sú nastavenia dokumentu, architektúra, podpora rôznych jazykov, vkladanie obrázkov a tabuliek, ako aj formátovanie textu. Zatiaľ čo niektoré časti sa sústreďujú na praktické úlohy a otázky, iné poskytujú príklady na inicializáciu rôznych typov dokumentov, ako sú správy, knihy a prezentácie cez triedu BEAMER. Autor sa taktiež zameriava na to, ako efektívne pracovať s balíkmi a nastaveniami pre rôzne fonty a vzhľady, poskytujúc tak cenné rady pre študentov i odborníkov, ktorí sa chcú zorientovať v používaní LATEXu. Okrem technických detailov je dokument obohatený o praktické úlohy a návrhy na cvičenia, ktoré umožňujú čitateľom rozvíjať svoje schopnosti v písaní a prezentácii odborných textov, čo je klúčové pre inžiniersku prax.\"\n",
      "  },\n",
      "  {\n",
      "    \"id\": \"9e9b8ee7-fca7-48a5-bd25-5c88c33c1cee\",\n",
      "    \"title\": \"PROGRAMOVANIE V JAZYKU C V RIEŠENÝCH PRÍKLADOCH 1\",\n",
      "    \"summary\": \"Dokument sa zaoberá programovacím jazykom C, ktorý bol pôvodne vyvinutý na implementáciu operačného systému UNIX. Jazyk C je teraz široko používaný pri vývoji systémového a aplikačného softvéru a jeho dizajn poskytuje priamy prístup k systémovým prostriedkom, čím umožňuje programátorom získať hlboké porozumenie interným procesom počítačov. Hlavným cieľom publikácie je naučiť čitateľov prakticky programovať v jazyku C, a to formou praktických príkladov, ktoré sú vhodné pre začiatočníkov, ale aj pre mierne pokročilých programátorov. Text je štruktúrovaný do šiestich kapitol, pričom každá kapitolová sekcia sa zaoberá rôznymi aspektmi programovania v C, ako sú premenné, riadiace štruktúry, funkcie, polymorfizmus a spracovanie polí a reťazcov. Každá časť zahŕňa teoretické vysvetlenia, ukážky kódu a úlohy na precvičovanie, ktorých riešenia sú poskytnuté na konci každej kapitoly. Publikácia sa zameriava na problematické oblasti, ktoré začínajúcim programátorom najčastejšie spôsobujú ťažkosti. Zároveň zdôrazňuje, že programovanie nie je pasívny proces a úspech prichádza s aktívnou prácou a experimentovaním s kódom. Záverečné projekty umožňujú integrovať získané poznatky do praktických úloh, čím sa podporuje aktívne učenie sa a rozvoj zručností.\"\n",
      "  },\n",
      "  {\n",
      "    \"id\": \"f9fb2ac7-a262-4650-be40-8cf2e46a8fdc\",\n",
      "    \"title\": \"The Hidden Language of Computer Hardware and SW\",\n",
      "    \"summary\": \"The document explores various concepts surrounding codes and communication, primarily focusing on the intricacies of coding systems used in computing and electronic devices. It begins with the significance of communication, referencing historical methods like Morse code and Braille as foundational coding systems that enhance the transfer of information between individuals and machines. The aspirations of Vannevar Bush in the 1940s are highlighted, particularly his vision for a \\\"memex,\\\" a conceptual mechanized storage system designed to improve access to information through associative indexing, which foreshadows modern computing capabilities. The text further delves into the technical aspects of codes, explaining the binary system as an essential language for computers and how elements like switches and logic gates facilitate arithmetic operations in digital systems. Additionally, it discusses the evolution and implementation of coding techniques, emphasizing the role they play in enhancing electronic communication and automating arithmetic. The document balances technical detail with historical context, underscoring how foundational ideas in early coding systems paved the way for complex computations and modern-day computing architectures. Through vivid illustrations of circuits and operational principles, it aims to demystify the hidden languages of computer hardware and software, making these fundamental concepts accessible to readers.\"\n",
      "  },\n",
      "  {\n",
      "    \"id\": \"fb672719-9bbe-45a9-9a4b-d1b3188eb28f\",\n",
      "    \"title\": \"Úvod do matematickej logiky I\",\n",
      "    \"summary\": \"The document is an introductory text on mathematical logic designed for first-year students at the Slovak University of Technology in Bratislava. It is structured into chapters that align with lectures, covering essential topics including propositional logic, predicate logic, and non-classical logics. The initial chapters focus on defining logical formulas, explaining their meanings, and demonstrating derivation methods, while subsequent chapters expand on these concepts with applications in combinatorial circuits and neural networks. There is a noted emphasis on the completeness theorem, which states that for any set of formulas, the validity of conclusions can be derived through proper rules of inference. The text also introduces Gentzen's sequent calculus, a formal system for deriving conclusions from premises, offering a mechanical approach for establishing logical truths. The inclusion of numerous unresolved exercises encourages self-study, making the text not just a complement to lectures but also a standalone resource for deepening understanding of mathematical logic. The author acknowledges the contributions of reviewers and emphasizes that the material serves as a basic foundation, recommending further specialized literature for those seeking more advanced knowledge. Overall, it aims to equip students with fundamental skills in logical reasoning and problem-solving within mathematical contexts.\"\n",
      "  },\n",
      "  {\n",
      "    \"id\": \"7b841314-551b-469c-be7c-2b7c7cf61883\",\n",
      "    \"title\": \"Štúdie vybraných tém programových a informačných 3\",\n",
      "    \"summary\": \"The document explores the concepts and technologies surrounding Multi-Agent Systems (MAS) and Agent-Oriented Programming, emphasizing their significance in developing distributed, intelligent systems that require a degree of autonomy. It highlights the transition from traditional object-oriented programming to agent-based paradigms, which allows individual agents to act on behalf of users in dynamic and unpredictable environments. The text discusses the importance of standardization in agent communication protocols through frameworks like FIPA and develops the necessity of common ontologies that facilitate inter-agent interactions. Key challenges mentioned include enhancing reasoning capabilities of agents, enabling better user interaction, and ensuring security and trust amongst users, which are crucial for widespread adoption of agent technologies. The document also evaluates existing agent platforms, particularly the JADE framework, and mentions various methodologies and tools that further the research in agent technologies. It presents agent architectures, including Belief-Desire-Intention (BDI) models, which illustrate how agents can operate effectively through knowledge representation, goal-directed actions, and environmental interaction. Overall, the document serves as an insightful roadmap for the future of agent technology, outlining both the promising applications and ongoing challenges in realizing their full potential in real-world applications.\"\n",
      "  },\n",
      "  {\n",
      "    \"id\": \"34d6f118-53f6-43a3-a55a-cf589c97a302\",\n",
      "    \"title\": \"Základy databázových systémov\",\n",
      "    \"summary\": \"Dokument sa zaoberá základmi databázových systémov, pričom sa zameriava predovšetkým na relačné databázy a jazyk SQL. V úvodných oddieloch čitateľ získa prehľad o architektúre databázových aplikácií a rôznych dátových modeloch, pričom sa osobitne zameriava na relačný model. Hlavná časť textu je venovaná SQL, zahŕňajúca jeho históriu, syntax a modifikáciu záznamov, ako aj integritné obmedzenia. Ďalej sa popisujú metódy ukladania a načítania dát v databázovom systéme, ako aj využitie indexov pre zlepšenie vyhľadávania. Dôležitou témou sú aj transakcie a ich vlastnosti, medzi ktorými dominujú ACID vlastnosti (Atomicita, Konzistencia, Izolácia a Trvácnosť). Autori dokumentu sa zaoberajú aj technikami riadenia súbežnosti, ako sú pesimistické a optimistické protokoly, a demonštrujú ich využitie v praxi. Celkový prístup je ku komunikácii medzi klientskou a serverovou časťou aplikácie, čo prispeje k zvýšeniu bezpečnosti a efektívnosti správy dát. K dokumentu je priložená literatúra s relevantnými zdrojmi, čo umožňuje hlbšie pochopenie predmetnej problematiky. Dokument slúži ako podporný materiál pre študentov Fakulty informatiky a informačných technológií Slovenskej technickej univerzity, pričom pôsobí aj ako základný prehľad tematickej oblasti databázových systémov.\"\n",
      "  },\n",
      "  {\n",
      "    \"id\": \"53baf470-a881-4d7c-acbf-09b03fddaded\",\n",
      "    \"title\": \"Základné metódy na zlepšenie použitel’nosti webov\",\n",
      "    \"summary\": \"Dokument od Eduarda Kurica s názvom \\\"Základné metódy na zlepšenie použiteľnosti webov\\\" sa zameriava na kľúčové aspekty používateľskej použiteľnosti a zážitku, pričom ponúka praktické metódy a stratégie na zlepšenie efektivity webových aplikácií. V prvej časti autor definuje pojmy ako použiteľnosť a používateľský zážitok (UX), pričom zdôrazňuje, že dobrá použiteľnosť pozitívne ovplyvňuje spokojnosť používateľov a ich interakciu s produktom. Nasledujúca časť sa zaoberá organizačnými metódami obsahu, kde popisuje význam informačnej architektúry a techniky ako triedenie kariet a testovanie hierarchií, ktoré sú kľúčové na uľahčenie navigácie a prístupu k informáciám. Ďalej sa autor zaoberá empatickými metódami na získavanie spätnej väzby od používateľov, čo pomáha pochopiť ich potreby a očakávania. V poslednej časti sa rozoberajú rôzne metódy testovania použiteľnosti, ako napríklad test prvého kliknutia a nahrávanie používateľských sedení, ktoré umožňujú získavať cenné údaje o interakciách používateľov s webmi. Rovnako je zdôraznený cyklický proces testovania a iterácie, ktorý je nevyhnutný na zlepšovanie aplikácií a zabezpečenie, aby splnili očakávania koncových používateľov. Autor vyjadril vďaku svojim kolegom za ich odbornú pomoc a podporu pri realizácii týchto metód.\"\n",
      "  },\n",
      "  {\n",
      "    \"id\": \"9bab2e37-4aa4-4115-81ab-9a80c6324638\",\n",
      "    \"title\": \"Nie príliš stručný úvod do systému LATEX2e\",\n",
      "    \"summary\": \"Dokument sa zaoberá systémom LaTeX, ktorý je nástrojom určeným na typografiu a spracovanie textu, predovšetkým v akademickej oblasti, a poskytuje širokú paletu príkazov a prostredí pre úpravu a formátovanie dokumentov. Začína sa s historickým kontextom Texu a jeho vývojom do LaTeXu, pričom sú zdôraznené základné komponenty ako preambule, ktoré definujú typ dokumentu a požadované balíky. Dokument dáva praktické príklady, ako používať príkazy na definovanie sekcií, diakritiky a špeciálnych znakov, ako aj pridávanie vlastných príkazov a prostredí na prispôsobenie výsledného vzhľadu textu. Diskutuje sa o variabilite, pokiaľ ide o usporiadanie a rozvrhnutie strán, a tiež o komplexnosti matematických vzorcov, ktoré je možné do dokumentu zahrnúť. Hlavné výhody systému zahŕňajú flexibilitu a presnosť pri spracovaní, zatiaľ čo nevýhody môžu spočívať v strmej krivke učenia a potrebe zvládnuť množstvo príkazov a syntaktických pravidiel. Dokument takisto poskytuje informácie o integrovaní medzinárodnej jazykovej podpory a možnostiam, ako sa vyrovnať s výzvami pri príprave profesionálnych a technických textov. Cieľom príručky je pomôcť užívateľom naučiť sa využívať LaTeX efektívne a maximalizovať jeho potenciál pri vytváraní kvalitného typografického dizajnu.\"\n",
      "  },\n",
      "  {\n",
      "    \"id\": \"34f944b5-b819-4ae3-afa1-592b466d80ab\",\n",
      "    \"title\": \"Umelá inteligencia\",\n",
      "    \"summary\": \"The document is a textbook on artificial intelligence, authored by several researchers, aiming to provide comprehensive knowledge on fundamental concepts and advanced topics within the field. It is structured into four main parts: the introduction, which outlines the definition of artificial intelligence and introduces the concept of rational agents; the first section that delves into basic principles such as problem-solving, logical reasoning, and planning; the second section that focuses on knowledge engineering, including knowledge acquisition and representation; the third section that covers machine learning, artificial neural networks, and evolutionary algorithms; and the fourth section that explores distributed artificial intelligence and multi-agent systems. Each chapter is supplemented with examples and exercises, making it suitable not only as a primary textbook for students studying artificial intelligence but also as a resource for related subjects such as knowledge-based systems and machine learning. The text emphasizes practical applications, historical background, and the theoretical framework needed to understand the algorithms and methodologies driving modern advancements in artificial intelligence technology. Overall, it serves as a detailed guide for learners and practitioners eager to grasp both the foundational and complex elements of artificial intelligence.\"\n",
      "  },\n",
      "  {\n",
      "    \"id\": \"ae648c4d-c222-4565-8759-5cde6251f826\",\n",
      "    \"title\": \"Softvérové inžinierstvo v otázkach a odpovediach\",\n",
      "    \"summary\": \"The document primarily discusses various methodologies and models in software engineering, focusing on their importance and application in the development process. It highlights the characteristics of good software design, such as high cohesion, low coupling, and the clarity of documentation, which are vital for effective implementation and maintenance. Among the methodologies mentioned, the spiral model stands out for its iterative approach, emphasizing risk management through multiple cycles that involve evaluations of potential threats and the creation of prototypes. The document outlines essential phases in software development, including requirement analysis, design specification, implementation, testing, and maintenance, detailing techniques for each phase, such as business modeling and the creation of use case diagrams. It also defines important concepts and terminology related to project management and version control, explaining the process of committing code in collaborative environments. Furthermore, it discusses the role of UML (Unified Modeling Language) and other diagrammatic representations in visualizing processes and improving understanding among stakeholders. Overall, the content reflects on how these structured approaches and tools help streamline software development, ensuring quality and alignment with user needs while adapting to changes effectively.\"\n",
      "  }\n",
      "]\n"
     ]
    }
   ],
   "source": [
    "with open(\"01_summaries.json\", \"r\") as f:\n",
    "  documents = json.load(f)\n",
    "\n",
    "  documents_str = json.dumps(\n",
    "    documents,\n",
    "    indent=2,\n",
    "    ensure_ascii=False\n",
    "  )\n",
    "\n",
    "print(documents_str)\n"
   ]
  },
  {
   "cell_type": "code",
   "execution_count": 6,
   "metadata": {},
   "outputs": [
    {
     "data": {
      "text/plain": [
       "['software engineering methodologies and models',\n",
       " 'what are Echo State Networks in AI',\n",
       " 'introduction to mathematical logic exercises',\n",
       " 'principles of quantum computing explained',\n",
       " 'how to improve website usability techniques',\n",
       " 'basic concepts of artificial intelligence',\n",
       " 'LaTeX documentation structure guide',\n",
       " 'digitization of currencies and blockchain technology',\n",
       " 'C programming language practical examples',\n",
       " 'database systems SQL tutorial overview',\n",
       " 'recommendations for software engineers best practices',\n",
       " 'elements of mathematical analysis for IT students',\n",
       " 'introduction to digital currencies',\n",
       " 'user experience design methods for web applications',\n",
       " 'learning algebra and discrete mathematics',\n",
       " 'Creative Commons licenses explained',\n",
       " 'project management best practices in software development',\n",
       " 'artificial intelligence fundamentals and applications',\n",
       " 'Blockchain use cases in modern finance',\n",
       " 'importance of refactoring in software development',\n",
       " 'overview of programming in C language',\n",
       " 'how to structure a LaTeX document',\n",
       " 'mathematical logic foundational concepts',\n",
       " 'decentralized finance and cryptocurrency regulations',\n",
       " 'advanced topics in artificial intelligence systems',\n",
       " 'techniques for enhancing website navigation',\n",
       " 'multi-agent systems in intelligent applications',\n",
       " 'history of LaTeX and its applications',\n",
       " 'best practices for managing database transactions',\n",
       " 'introductory guide to quantum algorithms',\n",
       " 'how to design effective project plans',\n",
       " 'refactoring techniques for cleaner code',\n",
       " 'solved examples in mathematical analysis',\n",
       " 'overview of Echo State Networks architecture',\n",
       " 'quantum computing basics for beginners',\n",
       " 'importance of user feedback in web design',\n",
       " 'principles of set theory in discrete mathematics',\n",
       " 'understanding the legal framework of Creative Commons',\n",
       " 'strategies for successful project execution',\n",
       " 'key components of artificial neural networks',\n",
       " 'exploring the binary coding system in electronics',\n",
       " 'tutorial on using LaTeX for academic writing',\n",
       " 'applications of blockchain in supply chain management',\n",
       " 'understanding C programming data structures',\n",
       " 'introduction to mathematical logic proofs',\n",
       " 'impact of machine learning in artificial intelligence',\n",
       " 'methods for evaluating software usability',\n",
       " 'critical concepts in database management systems',\n",
       " 'collaborative writing in LaTeX using Overleaf',\n",
       " 'trends in decentralized finance technology',\n",
       " 'overview of the scientific method in software engineering',\n",
       " 'essential skills for software developers']"
      ]
     },
     "execution_count": 6,
     "metadata": {},
     "output_type": "execute_result"
    }
   ],
   "source": [
    "with open('02_queries.json', 'r') as f:\n",
    "  queries = json.load(f)\n",
    "\n",
    "queries\n"
   ]
  },
  {
   "cell_type": "code",
   "execution_count": 9,
   "metadata": {},
   "outputs": [],
   "source": [
    "def get_value_from_dict(dict):\n",
    "  return dict[list(dict.keys())[0]]\n"
   ]
  },
  {
   "cell_type": "code",
   "execution_count": null,
   "metadata": {},
   "outputs": [
    {
     "data": {
      "text/plain": [
       "Message(id='msg_ppFT21uwUXNWwIHRUknCyi09', assistant_id=None, attachments=[], completed_at=None, content=[TextContentBlock(text=Text(annotations=[], value='[\\n  {\\n    \"id\": \"8288e199-5927-4eb1-8c40-07387287264f\",\\n    \"title\": \"Odporúčanie pre softvérových inžinierov\",\\n    \"summary\": \"Dokument sa zaoberá vývojom odporúčacích systémov orientovaných na softvér, pričom zdôrazňuje potrebu refaktoringu a zlepšovania kvality kódu. Refaktoring je proces, ktorý zlepšuje štruktúru existujúceho zdrojového kódu bez zmeny jeho vonkajšieho správania, pričom sa zameriava na odstránenie pachov v kóde, ako sú duplikovaný kód, dlhé metódy a veľké triedy. Práce analyzujú jednotlivé refaktorovacie operácie, ako vyňatie triedy, metódy, či balíka, ktoré prispievajú k vyššej čitateľnosti a zníženiu zložitosti kódu. Ďalej sa diskutuje o systémoch pre detekciu a správu duplicít v projektoch, čo je častý problém, najmä v open-source projektoch, kde je často vysoká miera duplicít. Odporúčacie systémy, ktoré navrhujú spôsoby zlepšenia procesov a znižovanie duplicít, môžu zlepšiť efektivitu tým, že používateľom ponúkajú odporúčania v podobe textových správ alebo vizualizácií, čo uľahčuje pochopenie navrhovaných zmien. Zvláštnu pozornosť si zasluhuje vývoj odporúčacích systémov, ktoré majú potenciál analyzovať interakcie programátorov so zdrojovým kódom a poskytovať úpravy, ktoré zohľadňujú historické dáta, pričom sa kladie dôraz na zachovávanie kvality a udržateľnosti kódu počas vývoja softvéru. Celkový cieľ dokumentu spočíva v prezentácii bypassov a techník, ktoré môžu prispieť k lepšiemu manažmentu problémov a efektívnejšiemu refaktoringu.\"\\n  },\\n  {\\n    \"id\": \"9e5b6ea5-2728-4496-9e49-82732bbcabc7\",\\n    \"title\": \"Úvod do matematickej logiky\",\\n    \"summary\": \"The document titled \\\\\"Úvod do matematickej logiky\\\\\" serves as a comprehensive introduction to the subject of mathematical logic, primarily intended for first-year students at the Slovak University of Technology in Bratislava. It is structured into eleven chapters, each corresponding to a lecture, covering foundational topics such as propositional logic, truth tables, tautologies, first-order logic, and more advanced notions like modal and multi-valued logics. Alongside a formal introduction to various axioms, rules of inference, and semantic structures, it elaborates upon theorems and proofs, particularly Gödel\\'s completeness theorem. The text emphasizes the importance of rigorous logical reasoning and the systematic derivation of logical propositions, aiming to provide students with essential knowledge to successfully navigate their studies in computer science and information technology. The chapters incorporate exercises to reinforce understanding, and while it provides a succinct overview of mathematical logic, it encourages students to pursue specialized literature for deeper insights. This resource is noted for its clarity and structured approach, making complex concepts accessible for learners new to the subject. Overall, it highlights the critical role of logic in mathematics and the broader implications of logical reasoning in various fields of study.\"\\n  },\\n  {\\n    \"id\": \"55045d27-c5f1-4c31-b1ed-fccd2eb0d676\",\\n    \"title\": \"Algebra a diskrétna  matematika\",\\n    \"summary\": \"Táto učebnica je určená študentom fakulty informatiky a informačných technológií, s cieľom poskytnúť komplexný prehľad o algebraických a diskrétnych matematických koncepciách, ktoré sú kľúčové pre informatiku. Obsahuje kapitoly o metódach matematického dôkazu, teórii množín, kombinatorike, boolovskej algebre, maticovej algebre, a teórii grafov. Každá kapitola je podrobne spracovaná a ilustrovaná množstvom praktických príkladov, ktoré pomáhajú študentom lepšie pochopiť teoretické koncepty. Učebnica pokrýva aj aplikácie týchto konceptov v informatike, pričom sa zameriava na rozvoj rigorózneho matematického myslenia a schopnosti pre riešenie problémov. Okrem teoretických poznatkov obsahuje aj cvičenia a zhrnutia, ktoré poskytujú študentom príležitosti na upevnenie naučených informácií. Cieľom autorov je, aby študenti získali pevné základy v základných oblastiach diskrétnej matematiky, ktoré sú nevyhnutné pre ich ďalšie štúdium a prax v oblasti informatiky. Učebnica je výsledkom spolupráce viacerých autorov a zahŕňa aj podnety od študentov, čo prispeje k jej zrozumiteľnosti a relevantnosti v praxi.\"\\n  },\\n  {\\n    \"id\": \"dd4675da-d675-4d11-ad8c-10860daab977\",\\n    \"title\": \"Základy digitálnych mien a blockchain sietí\",\\n    \"summary\": \"Dokument sa zaoberá základmi digitálnych mien a blockchain technológií. Obsahuje úvod do blockchainu, s podrobným pohľadom na rôzne kryptomeny ako Bitcoin a Ethereum. Čitateľ sa dozvie, ako fungujú tieto systémy, aké sú ich protokoly a aplikácie, pričom sa zameriava na smart kontrakty v Ethereum, programovaní v jazyku Solidity a problémy škálovateľnosti blockchainových sietí. Publikácia tiež diskutuje o otázkach bezpečnosti v ekosystéme, vrátane súkromných a decentralizovaných mien a ich vhodnosti pre rôzne aplikácie. K nižšej úrovni blokovej technológie patrí aj analýza vrstiev interakcie v priemysle a interoperabilite blockchainov. Významnú časť dokumentu predstavuje diskusia o decentralizovaných financiách a ich regulácii, ako aj o právnych a ekonomických aspektoch kryptomien. Na záver sú predstavené inovatívne aplikácie z regiónu, ako napríklad Mangata finance a SubSquid, ktoré ilustrujú prax a inováciu v oblasti blockchainových technológií. Celkovo je materiál určený študentom a odborníkom, ktorí sa zaujímajú o digitálne meny, blockchain a ich praktické využitie v modernom svete.\"\\n  },\\n  {\\n    \"id\": \"c6566bb1-6d34-4c8b-a967-785e4ccf9492\",\\n    \"title\": \"Quantum Computing for Everyone\",\\n    \"summary\": \"The document is an introductory guide to quantum computing, designed to be accessible to readers with a basic understanding of high school mathematics. It elucidates fundamental concepts such as qubits, entanglement, and quantum algorithms without overwhelming the reader with complex mathematics. The author emphasizes how quantum computing diverges from classical computing, primarily through the unique properties of qubits, which can exist in superpositions of states. The book discusses important quantum mechanics concepts, including measurements that change the state of a qubit and the phenomenon of entanglement, where the state of one qubit immediately influences another, regardless of distance—an aspect that challenges our classical intuitions. Chapters delve into linear algebra as it underpins quantum computing, explore notable quantum algorithms including Shor’s and Grover’s algorithms, and address quantum cryptography protocols like BB84. The discussion extends to the implications of quantum computing for computer science and security measures, especially how these technologies threaten traditional encryption methods. The narrative also touches upon the ongoing advancements in quantum hardware and real-world applications, highlighting entities such as IBM and Google in the race toward quantum supremacy, where quantum computers could outperform classical ones on specific problems. Ultimately, the document aims to clarify the profound shift quantum computing represents in our understanding of computation, positing it as a more fundamental approach than classical computing.\"\\n  },\\n  {\\n    \"id\": \"5add311d-cc6e-4d67-9b18-8301a1e7d070\",\\n    \"title\": \"Sprievodca licenciami Creative Commons\",\\n    \"summary\": \"Dokument sa zaoberá právami autorov a licenciami Creative Commons, pričom detailne popisuje, ako autorské právo funguje v rámci slovenskej legislatívy. Základným právnym predpisom je Autorský zákon, ktorý chráni dielo autora hneď od jeho vyjadrenia v zrozumiteľnej forme a nie je podmienený jeho zverejnením. Autorské právo zahŕňa osobnostné a majetkové práva, pričom osobnostné práva zostávajú autorovi neprevoditeľné a chránia jeho autorstvo a integritu diela. Dokument sa zameriava aj na problematiku licencií Creative Commons, ktoré umožňujú flexibilnejšie zdieľanie a opätovné využitie obsahu. Tieto licencie sú predstavené ako prostredok medzi autorským právom a otvoreným prístupom, vyžadujúc uvedenie pôvodného autora pri akomkoľvek použití. V guide sú podrobne vysvetlené rôzne typy licencií CC a ich aplikácia na výskumné dáta. Nielenže poskytuje cenné informácie pre autorov monografií v oblasti humanitných a spoločenských vied, ale taktiež vyjadruje obavy a často položené otázky týkajúce sa prístupnosti a zdieľania akademického obsahu. Celkovo sa sprievodca snaží osvetliť problematiku autorských práv a podporiť transparentnosť v oblasti otvoreného prístupu a jeho legislatívneho zázemia v Slovenskej republike.\"\\n  },\\n  {\\n    \"id\": \"60e4a65e-bd07-4360-ad26-b8c712ea3f53\",\\n    \"title\": \"LATEXovník - Štruktúra zdrojového súboru\",\\n    \"summary\": \"The document provides a comprehensive guide to LaTeX, a typesetting system widely used for producing scientific and mathematical documents. It covers essential elements such as the structure of LaTeX documents, including how to design titles, authorship, and the overall layout of content. Important packages necessary for various functionalities are discussed, alongside commands specific to text formatting and mathematical expressions. The document explains how to create lists, tables, and figures, emphasizing the use of environments such as verbatim for code and quotation. Specific features like font size adjustments, color usage, and unique symbols are also included, making the guide practical for more complex documents. Additionally, users are introduced to the basics of crafting math mode equations and employing operators, ensuring clarity in displaying formulas. Overall, the document serves as a practical reference for both novice and experienced LaTeX users, offering detailed instructions and insights into creating structured, professional-looking documents efficiently.\"\\n  },\\n  {\\n    \"id\": \"0c0fcd32-e3a5-4585-a5f7-7f347c787d97\",\\n    \"title\": \"Úvod do matematickej analýzy; Zbierka riešených príkladov\",\\n    \"summary\": \"The document \\\\\"Úvod do matematickej analýzy\\\\\" serves as a foundational resource for understanding mathematical analysis, specifically aimed at students in computer science and information technology programs. It encompasses a range of topics critical to the field, including the essentials of limits, functions, continuity, differentiation, and integration. The structure is designed to facilitate comprehension through solved examples that illustrate theoretical concepts in practical applications. The text is composed of various sections, each elaborating on specific aspects of mathematical analysis, supported by visual aids and tables that enhance learning. Given its pedagogical focus, the book emphasizes clarity and methodical progression from basic principles to more advanced theories, aiming to prepare readers for complex problem-solving scenarios they may encounter in further studies or professional environments. Furthermore, it is backed by academic validation and is intended to align with contemporary educational standards within technical university curricula. The publication not only contributes academically but also engages with the reader through interactive problem sets that reinforce the core concepts of mathematical analysis necessary for the development of robust computational skills. Overall, this document is a comprehensive guide that encapsulates the fundamental principles of mathematical analysis while providing practical tools for students to apply these concepts in their academic and future professional pursuits.\"\\n  },\\n  {\\n    \"id\": \"22467151-271b-49c2-85c7-197696e27903\",\\n    \"title\": \"Umelá inteligencia a kognitívna veda II\",\\n    \"summary\": \"The document discusses Echo State Networks (ESNs), a specific type of recurrent neural network designed for complex processing tasks. ESNs differ from traditional recurrent networks by utilizing a large, sparsely connected reservoir of units where input data is transformed into a dynamic response without training the entire network. Instead, only the output layer is trained based on the features learned by the reservoir, employing previously established dynamics to predict outputs from various inputs. The architecture includes input, hidden, and output layers, but the critical innovation lies in the use of the echo state property, which ensures that the network\\'s state at any time is significantly influenced by past inputs and outputs. This property is indispensable for the learning capability of ESNs, as it allows them to approximate complex, nonlinear dynamic behaviors efficiently. The network\\'s training involves adjusting the weights of the output layer while maintaining the random weights of the reservoir, which simplifies the training procedure substantially. Furthermore, the document elaborates on the mathematical foundations of ESNs, delving into concepts such as spectral radius and contraction properties, which are essential for ensuring stable and accurate learning. The performance of ESNs is contingent on their design choices, like the selection of the reservoir size and the weight distribution, impacting their ability to retain information over time and accurately model dynamic systems. Overall, the text provides a comprehensive insight into the design, mathematical background, and operational principles of Echo State Networks, highlighting their significance in the domain of artificial intelligence and cognitive sciences.\"\\n  },\\n  {\\n    \"id\": \"7e840a4f-7165-476b-9317-6178a63cf974\",\\n    \"title\": \"O softvéri od A po Z ; Úvahy nastupujúcich profesionálov\",\\n    \"summary\": \"The document provides a comprehensive overview of project management best practices, emphasizing the critical role of structured planning in achieving project goals. It outlines the importance of risk assessment and mitigation strategies, ensuring that potential challenges are identified early in the process. The text advocates for continuous monitoring and evaluation of project performance, highlighting various methodologies for maintaining control and accountability throughout the project lifecycle. Furthermore, it discusses the necessity of clear communication among team members and stakeholders, which fosters collaboration and facilitates timely decision-making. Attention is given to the documentation process, with recommendations for creating detailed project plans that outline objectives, timelines, and resources required. The use of tools and techniques for tracking progress and measuring outcomes is also emphasized, as they aid in making informed adjustments when necessary. The document underscores that flexibility in planning and execution is vital, enabling teams to respond effectively to unforeseen circumstances and changes in project scope. Overall, it serves as a valuable resource for project managers seeking to enhance their skills and ensure the successful delivery of projects across various industries.\"\\n  },\\n  {\\n    \"id\": \"834e69d9-b698-4af5-90e8-203d17b2ba68\",\\n    \"title\": \"Vybrané metódy inžinierskej práce\",\\n    \"summary\": \"Dokument s názvom \\\\\"Vybrané metódy inžinierskej práce: Spoločné písanie v LATEXu\\\\\" od autora Jána Langa predstavuje podrobný návod na efektívne použitie systému LATEX pre tvorbu technických a akademických dokumentov. V úvode sa zameriava na význam a prínos spoločného písania, pričom vyzdvihuje aj využitie cloudového riešenia Overleaf, ktoré umožňuje spoluprácu viacerých autorov. Ďalšie sekcie dokumentu sa zaoberajú základnými aspektmi písania v LATEXe, ako sú nastavenia dokumentu, architektúra, podpora rôznych jazykov, vkladanie obrázkov a tabuliek, ako aj formátovanie textu. Zatiaľ čo niektoré časti sa sústreďujú na praktické úlohy a otázky, iné poskytujú príklady na inicializáciu rôznych typov dokumentov, ako sú správy, knihy a prezentácie cez triedu BEAMER. Autor sa taktiež zameriava na to, ako efektívne pracovať s balíkmi a nastaveniami pre rôzne fonty a vzhľady, poskytujúc tak cenné rady pre študentov i odborníkov, ktorí sa chcú zorientovať v používaní LATEXu. Okrem technických detailov je dokument obohatený o praktické úlohy a návrhy na cvičenia, ktoré umožňujú čitateľom rozvíjať svoje schopnosti v písaní a prezentácii odborných textov, čo je klúčové pre inžiniersku prax.\"\\n  },\\n  {\\n    \"id\": \"9e9b8ee7-fca7-48a5-bd25-5c88c33c1cee\",\\n    \"title\": \"PROGRAMOVANIE V JAZYKU C V RIEŠENÝCH PRÍKLADOCH 1\",\\n    \"summary\": \"Dokument sa zaoberá programovacím jazykom C, ktorý bol pôvodne vyvinutý na implementáciu operačného systému UNIX. Jazyk C je teraz široko používaný pri vývoji systémového a aplikačného softvéru a jeho dizajn poskytuje priamy prístup k systémovým prostriedkom, čím umožňuje programátorom získať hlboké porozumenie interným procesom počítačov. Hlavným cieľom publikácie je naučiť čitateľov prakticky programovať v jazyku C, a to formou praktických príkladov, ktoré sú vhodné pre začiatočníkov, ale aj pre mierne pokročilých programátorov. Text je štruktúrovaný do šiestich kapitol, pričom každá kapitolová sekcia sa zaoberá rôznymi aspektmi programovania v C, ako sú premenné, riadiace štruktúry, funkcie, polymorfizmus a spracovanie polí a reťazcov. Každá časť zahŕňa teoretické vysvetlenia, ukážky kódu a úlohy na precvičovanie, ktorých riešenia sú poskytnuté na konci každej kapitoly. Publikácia sa zameriava na problematické oblasti, ktoré začínajúcim programátorom najčastejšie spôsobujú ťažkosti. Zároveň zdôrazňuje, že programovanie nie je pasívny proces a úspech prichádza s aktívnou prácou a experimentovaním s kódom. Záverečné projekty umožňujú integrovať získané poznatky do praktických úloh, čím sa podporuje aktívne učenie sa a rozvoj zručností.\"\\n  },\\n  {\\n    \"id\": \"f9fb2ac7-a262-4650-be40-8cf2e46a8fdc\",\\n    \"title\": \"The Hidden Language of Computer Hardware and SW\",\\n    \"summary\": \"The document explores various concepts surrounding codes and communication, primarily focusing on the intricacies of coding systems used in computing and electronic devices. It begins with the significance of communication, referencing historical methods like Morse code and Braille as foundational coding systems that enhance the transfer of information between individuals and machines. The aspirations of Vannevar Bush in the 1940s are highlighted, particularly his vision for a \\\\\"memex,\\\\\" a conceptual mechanized storage system designed to improve access to information through associative indexing, which foreshadows modern computing capabilities. The text further delves into the technical aspects of codes, explaining the binary system as an essential language for computers and how elements like switches and logic gates facilitate arithmetic operations in digital systems. Additionally, it discusses the evolution and implementation of coding techniques, emphasizing the role they play in enhancing electronic communication and automating arithmetic. The document balances technical detail with historical context, underscoring how foundational ideas in early coding systems paved the way for complex computations and modern-day computing architectures. Through vivid illustrations of circuits and operational principles, it aims to demystify the hidden languages of computer hardware and software, making these fundamental concepts accessible to readers.\"\\n  },\\n  {\\n    \"id\": \"fb672719-9bbe-45a9-9a4b-d1b3188eb28f\",\\n    \"title\": \"Úvod do matematickej logiky I\",\\n    \"summary\": \"The document is an introductory text on mathematical logic designed for first-year students at the Slovak University of Technology in Bratislava. It is structured into chapters that align with lectures, covering essential topics including propositional logic, predicate logic, and non-classical logics. The initial chapters focus on defining logical formulas, explaining their meanings, and demonstrating derivation methods, while subsequent chapters expand on these concepts with applications in combinatorial circuits and neural networks. There is a noted emphasis on the completeness theorem, which states that for any set of formulas, the validity of conclusions can be derived through proper rules of inference. The text also introduces Gentzen\\'s sequent calculus, a formal system for deriving conclusions from premises, offering a mechanical approach for establishing logical truths. The inclusion of numerous unresolved exercises encourages self-study, making the text not just a complement to lectures but also a standalone resource for deepening understanding of mathematical logic. The author acknowledges the contributions of reviewers and emphasizes that the material serves as a basic foundation, recommending further specialized literature for those seeking more advanced knowledge. Overall, it aims to equip students with fundamental skills in logical reasoning and problem-solving within mathematical contexts.\"\\n  },\\n  {\\n    \"id\": \"7b841314-551b-469c-be7c-2b7c7cf61883\",\\n    \"title\": \"Štúdie vybraných tém programových a informačných 3\",\\n    \"summary\": \"The document explores the concepts and technologies surrounding Multi-Agent Systems (MAS) and Agent-Oriented Programming, emphasizing their significance in developing distributed, intelligent systems that require a degree of autonomy. It highlights the transition from traditional object-oriented programming to agent-based paradigms, which allows individual agents to act on behalf of users in dynamic and unpredictable environments. The text discusses the importance of standardization in agent communication protocols through frameworks like FIPA and develops the necessity of common ontologies that facilitate inter-agent interactions. Key challenges mentioned include enhancing reasoning capabilities of agents, enabling better user interaction, and ensuring security and trust amongst users, which are crucial for widespread adoption of agent technologies. The document also evaluates existing agent platforms, particularly the JADE framework, and mentions various methodologies and tools that further the research in agent technologies. It presents agent architectures, including Belief-Desire-Intention (BDI) models, which illustrate how agents can operate effectively through knowledge representation, goal-directed actions, and environmental interaction. Overall, the document serves as an insightful roadmap for the future of agent technology, outlining both the promising applications and ongoing challenges in realizing their full potential in real-world applications.\"\\n  },\\n  {\\n    \"id\": \"34d6f118-53f6-43a3-a55a-cf589c97a302\",\\n    \"title\": \"Základy databázových systémov\",\\n    \"summary\": \"Dokument sa zaoberá základmi databázových systémov, pričom sa zameriava predovšetkým na relačné databázy a jazyk SQL. V úvodných oddieloch čitateľ získa prehľad o architektúre databázových aplikácií a rôznych dátových modeloch, pričom sa osobitne zameriava na relačný model. Hlavná časť textu je venovaná SQL, zahŕňajúca jeho históriu, syntax a modifikáciu záznamov, ako aj integritné obmedzenia. Ďalej sa popisujú metódy ukladania a načítania dát v databázovom systéme, ako aj využitie indexov pre zlepšenie vyhľadávania. Dôležitou témou sú aj transakcie a ich vlastnosti, medzi ktorými dominujú ACID vlastnosti (Atomicita, Konzistencia, Izolácia a Trvácnosť). Autori dokumentu sa zaoberajú aj technikami riadenia súbežnosti, ako sú pesimistické a optimistické protokoly, a demonštrujú ich využitie v praxi. Celkový prístup je ku komunikácii medzi klientskou a serverovou časťou aplikácie, čo prispeje k zvýšeniu bezpečnosti a efektívnosti správy dát. K dokumentu je priložená literatúra s relevantnými zdrojmi, čo umožňuje hlbšie pochopenie predmetnej problematiky. Dokument slúži ako podporný materiál pre študentov Fakulty informatiky a informačných technológií Slovenskej technickej univerzity, pričom pôsobí aj ako základný prehľad tematickej oblasti databázových systémov.\"\\n  },\\n  {\\n    \"id\": \"53baf470-a881-4d7c-acbf-09b03fddaded\",\\n    \"title\": \"Základné metódy na zlepšenie použitel’nosti webov\",\\n    \"summary\": \"Dokument od Eduarda Kurica s názvom \\\\\"Základné metódy na zlepšenie použiteľnosti webov\\\\\" sa zameriava na kľúčové aspekty používateľskej použiteľnosti a zážitku, pričom ponúka praktické metódy a stratégie na zlepšenie efektivity webových aplikácií. V prvej časti autor definuje pojmy ako použiteľnosť a používateľský zážitok (UX), pričom zdôrazňuje, že dobrá použiteľnosť pozitívne ovplyvňuje spokojnosť používateľov a ich interakciu s produktom. Nasledujúca časť sa zaoberá organizačnými metódami obsahu, kde popisuje význam informačnej architektúry a techniky ako triedenie kariet a testovanie hierarchií, ktoré sú kľúčové na uľahčenie navigácie a prístupu k informáciám. Ďalej sa autor zaoberá empatickými metódami na získavanie spätnej väzby od používateľov, čo pomáha pochopiť ich potreby a očakávania. V poslednej časti sa rozoberajú rôzne metódy testovania použiteľnosti, ako napríklad test prvého kliknutia a nahrávanie používateľských sedení, ktoré umožňujú získavať cenné údaje o interakciách používateľov s webmi. Rovnako je zdôraznený cyklický proces testovania a iterácie, ktorý je nevyhnutný na zlepšovanie aplikácií a zabezpečenie, aby splnili očakávania koncových používateľov. Autor vyjadril vďaku svojim kolegom za ich odbornú pomoc a podporu pri realizácii týchto metód.\"\\n  },\\n  {\\n    \"id\": \"9bab2e37-4aa4-4115-81ab-9a80c6324638\",\\n    \"title\": \"Nie príliš stručný úvod do systému LATEX2e\",\\n    \"summary\": \"Dokument sa zaoberá systémom LaTeX, ktorý je nástrojom určeným na typografiu a spracovanie textu, predovšetkým v akademickej oblasti, a poskytuje širokú paletu príkazov a prostredí pre úpravu a formátovanie dokumentov. Začína sa s historickým kontextom Texu a jeho vývojom do LaTeXu, pričom sú zdôraznené základné komponenty ako preambule, ktoré definujú typ dokumentu a požadované balíky. Dokument dáva praktické príklady, ako používať príkazy na definovanie sekcií, diakritiky a špeciálnych znakov, ako aj pridávanie vlastných príkazov a prostredí na prispôsobenie výsledného vzhľadu textu. Diskutuje sa o variabilite, pokiaľ ide o usporiadanie a rozvrhnutie strán, a tiež o komplexnosti matematických vzorcov, ktoré je možné do dokumentu zahrnúť. Hlavné výhody systému zahŕňajú flexibilitu a presnosť pri spracovaní, zatiaľ čo nevýhody môžu spočívať v strmej krivke učenia a potrebe zvládnuť množstvo príkazov a syntaktických pravidiel. Dokument takisto poskytuje informácie o integrovaní medzinárodnej jazykovej podpory a možnostiam, ako sa vyrovnať s výzvami pri príprave profesionálnych a technických textov. Cieľom príručky je pomôcť užívateľom naučiť sa využívať LaTeX efektívne a maximalizovať jeho potenciál pri vytváraní kvalitného typografického dizajnu.\"\\n  },\\n  {\\n    \"id\": \"34f944b5-b819-4ae3-afa1-592b466d80ab\",\\n    \"title\": \"Umelá inteligencia\",\\n    \"summary\": \"The document is a textbook on artificial intelligence, authored by several researchers, aiming to provide comprehensive knowledge on fundamental concepts and advanced topics within the field. It is structured into four main parts: the introduction, which outlines the definition of artificial intelligence and introduces the concept of rational agents; the first section that delves into basic principles such as problem-solving, logical reasoning, and planning; the second section that focuses on knowledge engineering, including knowledge acquisition and representation; the third section that covers machine learning, artificial neural networks, and evolutionary algorithms; and the fourth section that explores distributed artificial intelligence and multi-agent systems. Each chapter is supplemented with examples and exercises, making it suitable not only as a primary textbook for students studying artificial intelligence but also as a resource for related subjects such as knowledge-based systems and machine learning. The text emphasizes practical applications, historical background, and the theoretical framework needed to understand the algorithms and methodologies driving modern advancements in artificial intelligence technology. Overall, it serves as a detailed guide for learners and practitioners eager to grasp both the foundational and complex elements of artificial intelligence.\"\\n  },\\n  {\\n    \"id\": \"ae648c4d-c222-4565-8759-5cde6251f826\",\\n    \"title\": \"Softvérové inžinierstvo v otázkach a odpovediach\",\\n    \"summary\": \"The document primarily discusses various methodologies and models in software engineering, focusing on their importance and application in the development process. It highlights the characteristics of good software design, such as high cohesion, low coupling, and the clarity of documentation, which are vital for effective implementation and maintenance. Among the methodologies mentioned, the spiral model stands out for its iterative approach, emphasizing risk management through multiple cycles that involve evaluations of potential threats and the creation of prototypes. The document outlines essential phases in software development, including requirement analysis, design specification, implementation, testing, and maintenance, detailing techniques for each phase, such as business modeling and the creation of use case diagrams. It also defines important concepts and terminology related to project management and version control, explaining the process of committing code in collaborative environments. Furthermore, it discusses the role of UML (Unified Modeling Language) and other diagrammatic representations in visualizing processes and improving understanding among stakeholders. Overall, the content reflects on how these structured approaches and tools help streamline software development, ensuring quality and alignment with user needs while adapting to changes effectively.\"\\n  }\\n]'), type='text')], created_at=1732569117, incomplete_at=None, incomplete_details=None, metadata={}, object='thread.message', role='user', run_id=None, status=None, thread_id='thread_CowqAY363SvkHaKMj8HoHY5I')"
      ]
     },
     "execution_count": 18,
     "metadata": {},
     "output_type": "execute_result"
    }
   ],
   "source": [
    "results = {}\n",
    "\n",
    "thread = client.beta.threads.create()\n",
    "\n",
    "client.beta.threads.messages.create(\n",
    "  thread_id=thread.id,\n",
    "  content=documents_str,\n",
    "  role=\"user\"\n",
    ")\n"
   ]
  },
  {
   "cell_type": "code",
   "execution_count": 19,
   "metadata": {},
   "outputs": [],
   "source": [
    "def get_retrieval_ids(query):\n",
    "  client.beta.threads.messages.create(\n",
    "    thread_id=thread.id,\n",
    "    content=get_retrieval_prompt(query),\n",
    "    role=\"user\"\n",
    "  )\n",
    "\n",
    "  run = client.beta.threads.runs.create_and_poll(\n",
    "    thread_id=thread.id,\n",
    "    assistant_id=assistant_id,\n",
    "  )\n",
    "\n",
    "  if run.status != \"completed\":\n",
    "    raise Exception(\"Run failed:\", run.status)\n",
    "\n",
    "  messages_cursor = client.beta.threads.messages.list(thread.id)\n",
    "  messages = [message for message in messages_cursor]\n",
    "  message = messages[0]\n",
    "\n",
    "  response_content = message.content[0].text.value\n",
    "  response = json.loads(response_content)\n",
    "\n",
    "  return get_value_from_dict(response)\n"
   ]
  },
  {
   "cell_type": "code",
   "execution_count": 22,
   "metadata": {},
   "outputs": [],
   "source": [
    "for query in queries[3:10]:\n",
    "  results[query] = get_retrieval_ids(query)\n"
   ]
  },
  {
   "cell_type": "code",
   "execution_count": 15,
   "metadata": {},
   "outputs": [
    {
     "data": {
      "text/plain": [
       "ThreadDeleted(id='thread_0gPuEVRxw1i00q6tBkST2Og2', deleted=True, object='thread.deleted')"
      ]
     },
     "execution_count": 15,
     "metadata": {},
     "output_type": "execute_result"
    }
   ],
   "source": [
    "client.beta.threads.delete(thread.id)\n"
   ]
  },
  {
   "cell_type": "code",
   "execution_count": 23,
   "metadata": {},
   "outputs": [],
   "source": [
    "with open('03_retrieval.json', 'w') as f:\n",
    "  json.dump(results, f, indent=2, ensure_ascii=False)\n"
   ]
  },
  {
   "cell_type": "code",
   "execution_count": null,
   "metadata": {},
   "outputs": [],
   "source": [
    "# Ensure that all returned relevant documents for each query are in the original document set\n",
    "\n",
    "document_ids = set([doc['id'] for doc in documents])\n",
    "\n",
    "for key in results.keys():\n",
    "  rel_docs = results[key]\n",
    "  for rel_doc in rel_docs:\n",
    "    if rel_doc['id'] not in document_ids:\n",
    "      print(\"Document not found:\", rel_doc['id'], rel_doc['title'])\n"
   ]
  }
 ],
 "metadata": {
  "kernelspec": {
   "display_name": "env",
   "language": "python",
   "name": "python3"
  },
  "language_info": {
   "codemirror_mode": {
    "name": "ipython",
    "version": 3
   },
   "file_extension": ".py",
   "mimetype": "text/x-python",
   "name": "python",
   "nbconvert_exporter": "python",
   "pygments_lexer": "ipython3",
   "version": "3.13.0"
  }
 },
 "nbformat": 4,
 "nbformat_minor": 2
}
