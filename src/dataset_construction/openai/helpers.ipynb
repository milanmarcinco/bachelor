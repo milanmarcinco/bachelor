{
 "cells": [
  {
   "cell_type": "markdown",
   "metadata": {},
   "source": [
    "# Helpers\n"
   ]
  },
  {
   "cell_type": "code",
   "execution_count": 1,
   "metadata": {},
   "outputs": [],
   "source": [
    "from openai import OpenAI\n",
    "from dotenv import dotenv_values"
   ]
  },
  {
   "cell_type": "code",
   "execution_count": 2,
   "metadata": {},
   "outputs": [],
   "source": [
    "env = dotenv_values()\n",
    "\n",
    "API_KEY = env['OPENAI_API_KEY']\n",
    "MODEL = env['OPENAI_MODEL']\n",
    "\n",
    "filename = \"01_summaries.json\""
   ]
  },
  {
   "cell_type": "code",
   "execution_count": 3,
   "metadata": {},
   "outputs": [],
   "source": [
    "client = OpenAI(api_key=API_KEY)"
   ]
  },
  {
   "cell_type": "markdown",
   "metadata": {},
   "source": [
    "## File upload\n"
   ]
  },
  {
   "cell_type": "code",
   "execution_count": 4,
   "metadata": {},
   "outputs": [],
   "source": [
    "# Get a list of uploaded files\n",
    "\n",
    "files_cursor = client.files.list(limit=100)\n",
    "files = [file for file in files_cursor]\n",
    "\n",
    "for file in files:\n",
    "    print(file.id, file.filename)"
   ]
  },
  {
   "cell_type": "code",
   "execution_count": 5,
   "metadata": {},
   "outputs": [],
   "source": [
    "# Delete all files from the list above\n",
    "\n",
    "for file in files:\n",
    "    res = client.files.delete(file.id)\n",
    "    print(res)"
   ]
  },
  {
   "cell_type": "markdown",
   "metadata": {},
   "source": [
    "## Vector stores\n"
   ]
  },
  {
   "cell_type": "code",
   "execution_count": null,
   "metadata": {},
   "outputs": [],
   "source": [
    "# Retrieve and delete all existing vector stores\n",
    "\n",
    "vector_stores = client.beta.vector_stores.list(limit=100)\n",
    "\n",
    "for vector_store in vector_stores:\n",
    "    res = client.beta.vector_stores.delete(vector_store.id)\n",
    "    print(res)"
   ]
  },
  {
   "cell_type": "markdown",
   "metadata": {},
   "source": [
    "## Messages\n"
   ]
  },
  {
   "cell_type": "code",
   "execution_count": null,
   "metadata": {},
   "outputs": [],
   "source": [
    "# List thread messages\n",
    "\n",
    "thread_id = \"\"\n",
    "\n",
    "messages_cursor = client.beta.threads.messages.list(thread_id)\n",
    "messages = [message for message in messages_cursor]\n",
    "\n",
    "for message in messages:\n",
    "    print(message.id, message.content[0].text.value)"
   ]
  },
  {
   "cell_type": "code",
   "execution_count": null,
   "metadata": {},
   "outputs": [],
   "source": [
    "# Remove all messages from the thread retrieved above\n",
    "\n",
    "for message in messages:\n",
    "    client.beta.threads.messages.delete(\n",
    "        message_id=message.id,\n",
    "        thread_id=thread_id\n",
    "    )"
   ]
  }
 ],
 "metadata": {
  "kernelspec": {
   "display_name": "env",
   "language": "python",
   "name": "python3"
  },
  "language_info": {
   "codemirror_mode": {
    "name": "ipython",
    "version": 3
   },
   "file_extension": ".py",
   "mimetype": "text/x-python",
   "name": "python",
   "nbconvert_exporter": "python",
   "pygments_lexer": "ipython3",
   "version": "3.13.1"
  }
 },
 "nbformat": 4,
 "nbformat_minor": 2
}
