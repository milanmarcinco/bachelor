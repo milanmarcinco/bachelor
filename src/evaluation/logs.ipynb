{
 "cells": [
  {
   "cell_type": "code",
   "execution_count": 36,
   "metadata": {},
   "outputs": [],
   "source": [
    "import datetime\n",
    "import requests\n",
    "import time\n",
    "import json\n",
    "import os"
   ]
  },
  {
   "cell_type": "code",
   "execution_count": 37,
   "metadata": {},
   "outputs": [],
   "source": [
    "LOGS_DIR = \"../../data/perf/logs\"\n",
    "NANOSECONDS_IN_SECOND = 1e9\n",
    "LIMIT = 1000"
   ]
  },
  {
   "cell_type": "code",
   "execution_count": 44,
   "metadata": {},
   "outputs": [],
   "source": [
    "base_url = \"http://le-terror:3100/loki/api/v1/query_range\"\n",
    "query = '{compose_service=\"script\"}'"
   ]
  },
  {
   "cell_type": "code",
   "execution_count": 39,
   "metadata": {},
   "outputs": [],
   "source": [
    "time_chunks = [\n",
    "    (\n",
    "        \"meilisearch_indexing\",\n",
    "        \"2025-02-26T20:30:00+01:00\",\n",
    "        \"2025-02-27T15:50:00+01:00\"\n",
    "    )\n",
    "]\n"
   ]
  },
  {
   "cell_type": "code",
   "execution_count": 51,
   "metadata": {},
   "outputs": [],
   "source": [
    "for time_chunk in time_chunks:\n",
    "    label, chunk_start, chunk_end = time_chunk\n",
    "\n",
    "    start_parsed = datetime.datetime.fromisoformat(chunk_start)\n",
    "    end_parsed = datetime.datetime.fromisoformat(chunk_end)\n",
    "\n",
    "    start = int(start_parsed.timestamp() * NANOSECONDS_IN_SECOND)\n",
    "    end = int(end_parsed.timestamp() * NANOSECONDS_IN_SECOND)\n",
    "\n",
    "    accumulator = []\n",
    "    cursor = start\n",
    "\n",
    "    while cursor < end:\n",
    "        params = {\n",
    "            \"query\": query,\n",
    "            \"start\": cursor,\n",
    "            \"end\": end,\n",
    "            \"limit\": LIMIT,\n",
    "            \"direction\": \"forward\"\n",
    "        }\n",
    "\n",
    "        response = requests.get(base_url, params=params)\n",
    "        response_json = response.json()\n",
    "\n",
    "        data = []\n",
    "        for container in response_json[\"data\"][\"result\"]:\n",
    "            data.extend(container[\"values\"])\n",
    "\n",
    "        accumulator.extend(data)\n",
    "\n",
    "        if len(data) < LIMIT:\n",
    "            break\n",
    "\n",
    "        cursor = int(data[-1][0]) + 1\n",
    "\n",
    "    with open(f\"{LOGS_DIR}/{label}.json\", \"w\") as file:\n",
    "        json.dump(accumulator, file, indent=2)"
   ]
  }
 ],
 "metadata": {
  "kernelspec": {
   "display_name": "env",
   "language": "python",
   "name": "python3"
  },
  "language_info": {
   "codemirror_mode": {
    "name": "ipython",
    "version": 3
   },
   "file_extension": ".py",
   "mimetype": "text/x-python",
   "name": "python",
   "nbconvert_exporter": "python",
   "pygments_lexer": "ipython3",
   "version": "3.12.9"
  }
 },
 "nbformat": 4,
 "nbformat_minor": 2
}
